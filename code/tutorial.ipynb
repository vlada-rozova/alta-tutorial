{
 "cells": [
  {
   "cell_type": "code",
   "execution_count": 1,
   "id": "a9d49cc0",
   "metadata": {
    "slideshow": {
     "slide_type": "skip"
    }
   },
   "outputs": [],
   "source": [
    "import numpy as np\n",
    "import pandas as pd\n",
    "import utils\n",
    "\n",
    "# Silence future warnings\n",
    "import warnings\n",
    "warnings.simplefilter(action='ignore', category=FutureWarning)"
   ]
  },
  {
   "cell_type": "markdown",
   "id": "22206063",
   "metadata": {
    "slideshow": {
     "slide_type": "slide"
    }
   },
   "source": [
    "___\n",
    "# Get to know the CHIFIR dataset"
   ]
  },
  {
   "cell_type": "markdown",
   "id": "d19c0d95",
   "metadata": {
    "slideshow": {
     "slide_type": "subslide"
    }
   },
   "source": [
    "_The corpus of Cytology and Histopathology Invasive Fungal Infection Reports (CHIFIR) is available at [PhysioNet](https://physionet.org/content/corpus-fungal-infections/1.0.0/). Since these are medical reports and can contain sensitive information, the dataset can only be accessed by credentialed users who have signed the Data Use Agreement._"
   ]
  },
  {
   "cell_type": "markdown",
   "id": "9eaf81e4",
   "metadata": {
    "slideshow": {
     "slide_type": "slide"
    }
   },
   "source": [
    "___\n",
    "## Background\n",
    "\n",
    "Cytology and histopathology reports are a common type of clinical documentation. These are pathologist-produced free-text reports outlining the macroscopic and microscopic structure of a specimen. Depending on the sample and what it contains, a report might describe its overall structure, which types cells or tissue can be seen, and any pathological findings. In other words, the information contained in a report can vary a lot and directly depends on the patient's medical condition.  "
   ]
  },
  {
   "cell_type": "markdown",
   "id": "a4aba9fe",
   "metadata": {
    "slideshow": {
     "slide_type": "subslide"
    }
   },
   "source": [
    "CHIFIR was created to support the development of an automated tool for the detection of invasive fungal infection (IFI). IFIs are rare but serious infections most commonly affecting immunocompromised and critically ill patients. Traditionally, surveillance of IFI is a laboriuos process which requires a physician to perform a detailed review of patient's medical history. Histopathology reports play a key role as they provide, albeit not with 100% certainty, evidence for the presence or absence of IFI."
   ]
  },
  {
   "cell_type": "markdown",
   "id": "66d7728c",
   "metadata": {
    "slideshow": {
     "slide_type": "slide"
    }
   },
   "source": [
    "___\n",
    "## Aim\n",
    "\n",
    "As mentioned above, the ultimate goal is to build a tool that can accurately detect IFI based on a patient's medical history. Part of this is to be able to tell if any associated histopathology reports contain any evidence for IFI. This can be done in two steps:\n",
    "- By extracting any relevant information from a report, e.g., phrases describing fungal organisms.\n",
    "- Based on this information, classifying a report as positive or negative for IFI."
   ]
  },
  {
   "cell_type": "markdown",
   "id": "a6c71aea",
   "metadata": {
    "slideshow": {
     "slide_type": "subslide"
    }
   },
   "source": [
    "In this tutorial, we will be focussing on the task of information extraction, specifically, named-entity recognition (NER). This means we would like to **detect words or phrases in the text that describe a particular concept**. Since the reports are free-text, we might need to use text analytics and natural language processing (NLP) methods. But first let's take a look at the data..."
   ]
  },
  {
   "cell_type": "markdown",
   "id": "49f35d5a",
   "metadata": {
    "slideshow": {
     "slide_type": "slide"
    }
   },
   "source": [
    "___\n",
    "# Explore the CHIFIR dataset"
   ]
  },
  {
   "cell_type": "markdown",
   "id": "5710c62e",
   "metadata": {
    "slideshow": {
     "slide_type": "slide"
    }
   },
   "source": [
    "___\n",
    "## Metadata"
   ]
  },
  {
   "cell_type": "code",
   "execution_count": null,
   "id": "f70724db",
   "metadata": {
    "slideshow": {
     "slide_type": "fragment"
    }
   },
   "outputs": [],
   "source": [
    "# Load the csv file with report metadata\n",
    "path = \"../../../Data/CHIFIR/\"\n",
    "df = pd.read_csv(path + \"chifir_metadata.csv\")\n",
    "print(df.shape)\n",
    "df.head()"
   ]
  },
  {
   "cell_type": "code",
   "execution_count": null,
   "id": "152e5253",
   "metadata": {
    "slideshow": {
     "slide_type": "subslide"
    }
   },
   "outputs": [],
   "source": [
    "# How many reports?\n",
    "df.histopathology_id.nunique()"
   ]
  },
  {
   "cell_type": "code",
   "execution_count": null,
   "id": "324a94f4",
   "metadata": {
    "slideshow": {
     "slide_type": "fragment"
    }
   },
   "outputs": [],
   "source": [
    "# Number of patients\n",
    "df.patient_id.nunique()"
   ]
  },
  {
   "cell_type": "code",
   "execution_count": null,
   "id": "3016102f",
   "metadata": {
    "slideshow": {
     "slide_type": "fragment"
    }
   },
   "outputs": [],
   "source": [
    "# Number of reports per patient\n",
    "df.groupby('patient_id').size().aggregate(['min', 'max'])"
   ]
  },
  {
   "cell_type": "code",
   "execution_count": null,
   "id": "c6919fbc",
   "metadata": {
    "slideshow": {
     "slide_type": "subslide"
    }
   },
   "outputs": [],
   "source": [
    "# Report-level annotations\n",
    "df.y_report.value_counts()"
   ]
  },
  {
   "cell_type": "code",
   "execution_count": null,
   "id": "3c636ad5",
   "metadata": {
    "slideshow": {
     "slide_type": "fragment"
    }
   },
   "outputs": [],
   "source": [
    "# Proportion of positive reports\n",
    "df.y_report.value_counts(normalize=True).round(2)"
   ]
  },
  {
   "cell_type": "code",
   "execution_count": null,
   "id": "d645dd27",
   "metadata": {
    "slideshow": {
     "slide_type": "subslide"
    }
   },
   "outputs": [],
   "source": [
    "# Recommended data split: development and test sets\n",
    "df.dataset.value_counts()"
   ]
  },
  {
   "cell_type": "code",
   "execution_count": null,
   "id": "99349336",
   "metadata": {
    "slideshow": {
     "slide_type": "subslide"
    }
   },
   "outputs": [],
   "source": [
    "# Recommended data split for 10-fold cross-validation --\n",
    "# ensures reports from the same patient are allocated to the same fold.\n",
    "df[df.dataset=='development'].val_fold.value_counts().sort_index()"
   ]
  },
  {
   "cell_type": "markdown",
   "id": "945a966b",
   "metadata": {
    "slideshow": {
     "slide_type": "fragment"
    }
   },
   "source": [
    "<div class=\"alert alert-block alert-info\">\n",
    "<b>Tip:</b> Use the same cross-validation split to compare different models/approaches otherwise your results might not be reliable. Here, we appended fold numbers to the dataset; you can also reproduce the splitting strategy each time but make sure to initialise the random number generator with the same value.\n",
    "</div>"
   ]
  },
  {
   "cell_type": "markdown",
   "id": "5295ed3d",
   "metadata": {
    "slideshow": {
     "slide_type": "slide"
    }
   },
   "source": [
    "___\n",
    "## Reports"
   ]
  },
  {
   "cell_type": "code",
   "execution_count": null,
   "id": "36ba1125",
   "metadata": {
    "slideshow": {
     "slide_type": "fragment"
    }
   },
   "outputs": [],
   "source": [
    "# Add free-text reports to the dataframe\n",
    "df['report'] = df.apply(utils.read_report, path=path + \"reports/\", axis=1)"
   ]
  },
  {
   "cell_type": "code",
   "execution_count": null,
   "id": "51c0367d",
   "metadata": {
    "slideshow": {
     "slide_type": "subslide"
    }
   },
   "outputs": [],
   "source": [
    "# What does a report look like? Let's look at an example\n",
    "print(df.report.iloc[20])"
   ]
  },
  {
   "cell_type": "markdown",
   "id": "89c5d9f1",
   "metadata": {
    "slideshow": {
     "slide_type": "subslide"
    }
   },
   "source": [
    "<div class=\"alert alert-block alert-info\">\n",
    "<li>Personal identifiying information is replaced with a string of Xs of equal length.\n",
    "    \n",
    "<code>\"Reported by Dr XXXXXXXXXX with Dr XXXXXXXXX, XXXXXXXXXXXXXXXXXXXXXXXXXXXXX, validated XXXXXXXXXXX \"</code></li>\n",
    "<li>Report sections are separated by newline characters and headers in caps lock: \n",
    "    \n",
    "<code>REQUEST DETAILS</code>, <code>MACROSCOPIC DESCRIPTION</code>, <code>MICROSCOPIC DESCRIPTION</code>, <code>OPINION</code></li>\n",
    "<li>The report uses some abbreviations and specific terminology, it is characterised by short and sometimes incomplete sentences:\n",
    "\n",
    "<code>\"Stage IV FL- on bispecific Ab.\"</code>\n",
    "</li>\n",
    "</div>"
   ]
  },
  {
   "cell_type": "code",
   "execution_count": null,
   "id": "f3b212c7",
   "metadata": {
    "slideshow": {
     "slide_type": "subslide"
    }
   },
   "outputs": [],
   "source": [
    "# Are all reports structured in the same way?\n",
    "print(df.report.iloc[0])"
   ]
  },
  {
   "cell_type": "markdown",
   "id": "6254c63a",
   "metadata": {
    "slideshow": {
     "slide_type": "fragment"
    }
   },
   "source": [
    "<div class=\"alert alert-block alert-info\">\n",
    "Not quite. Some formatting may have been lost during data transfer. Headers vary, for example, of the concluding section: <code>OPINION</code> vs <code>DIAGNOSIS</code>.\n",
    "</div>"
   ]
  },
  {
   "cell_type": "code",
   "execution_count": null,
   "id": "ba98f143",
   "metadata": {
    "slideshow": {
     "slide_type": "subslide"
    }
   },
   "outputs": [],
   "source": [
    "# Let's calculate the character length of reports\n",
    "df['report_length'] = df.report.apply(len)\n",
    "\n",
    "sns.histplot(x='report_length', data=df);"
   ]
  },
  {
   "cell_type": "code",
   "execution_count": null,
   "id": "32444dde",
   "metadata": {
    "slideshow": {
     "slide_type": "subslide"
    }
   },
   "outputs": [],
   "source": [
    "# Btw, is there any correlation between report length and its IFI label?\n",
    "sns.histplot(x='report_length', data=df, hue='y_report');"
   ]
  },
  {
   "cell_type": "markdown",
   "id": "256f15b2",
   "metadata": {
    "slideshow": {
     "slide_type": "slide"
    }
   },
   "source": [
    "___\n",
    "# The annotation process"
   ]
  },
  {
   "cell_type": "markdown",
   "id": "c17b3af7",
   "metadata": {
    "slideshow": {
     "slide_type": "slide"
    }
   },
   "source": [
    "___\n",
    "## What to annotate?"
   ]
  },
  {
   "cell_type": "markdown",
   "id": "2afbcb8e",
   "metadata": {
    "slideshow": {
     "slide_type": "fragment"
    }
   },
   "source": [
    "Now let's take a look at another report.\n",
    "\n",
    "Assuming no prior knowledge, which words or phrases would you identify as __related to fungal infection__?"
   ]
  },
  {
   "cell_type": "code",
   "execution_count": null,
   "id": "7fa43710",
   "metadata": {
    "scrolled": false,
    "slideshow": {
     "slide_type": "subslide"
    }
   },
   "outputs": [],
   "source": [
    "print(df.report.iloc[2])"
   ]
  },
  {
   "cell_type": "markdown",
   "id": "bf6c7ec4",
   "metadata": {
    "slideshow": {
     "slide_type": "subslide"
    },
    "tags": [
     "hide-input"
    ]
   },
   "source": [
    "<div class=\"alert alert-block alert-info\">\n",
    "<li>The doctor suspects fungal infection: <code>?fungus</code></li>\n",
    "<br/>\n",
    "<li>Explicit negation of fungal infection: <code>no ... fungal elements are identified</code>, <code>no evidence of ... fungal elements</code></li>\n",
    "<br/>\n",
    "<li>What else? <code>Pneumocystis</code> is a type of fungi. <code>Grocott</code> is a dye that stains fungi.</li>\n",
    "</div>"
   ]
  },
  {
   "cell_type": "markdown",
   "id": "f2e47af3",
   "metadata": {
    "slideshow": {
     "slide_type": "slide"
    }
   },
   "source": [
    "___\n",
    "## The annotation schema"
   ]
  },
  {
   "cell_type": "markdown",
   "id": "1bdf09fb",
   "metadata": {
    "slideshow": {
     "slide_type": "fragment"
    }
   },
   "source": [
    "From what we have seen above, what information in the report is **relevant to detecting fungal infection**?"
   ]
  },
  {
   "cell_type": "markdown",
   "id": "5d380c58",
   "metadata": {
    "slideshow": {
     "slide_type": "fragment"
    }
   },
   "source": [
    "- Did the referring doctor suspect fungal infection?\n",
    "- What stains were used to examine the sample?\n",
    "- What organisms/species were mentioned?\n",
    "- Were these explicitly negated?"
   ]
  },
  {
   "cell_type": "markdown",
   "id": "aa48cc60",
   "metadata": {
    "slideshow": {
     "slide_type": "subslide"
    }
   },
   "source": [
    "How can we **categorise this information**? Let's define several concept categories: \n",
    "\n",
    "| **Concept category** | **Definition**                                                 |\n",
    "|:----------------------:|:----------------------------------------------------------------|\n",
    "| _ClinicalQuery_      | Queries about IFI                                              |\n",
    "| _FungalDescriptor_   | Generic descriptors of fungal elements                         |\n",
    "| _Fungus_             | Specific fungal organisms or syndromes                         |\n",
    "| _Invasiveness_       | Depth and degree of fungal invasion into tissues               |\n",
    "| _Stain_              | Names of histological stains used to visualise fungal elements |\n",
    "| _SampleType_         | Names of the sampled organ, site, or tissue source             |\n",
    "| _Positive_           | Affirmative expression                                         |\n",
    "| _Equivocal_          | Expression of uncertainty                                      |\n",
    "| _Negative_           | Negating expression                                            |"
   ]
  },
  {
   "cell_type": "markdown",
   "id": "37c73b41",
   "metadata": {
    "slideshow": {
     "slide_type": "subslide"
    },
    "tags": [
     "hide-input"
    ]
   },
   "source": [
    "The phrases we have identified in our example would fall into the following categories:\n",
    "- `?fungal` is a _ClinicalQuery_\n",
    "- `fungal elements` is a _FungalDescriptor_ (**note** that both instances are negated)\n",
    "- `Pneumocystis` is a _Fungus_\n",
    "- `Grocott` is a _Stain_\n",
    "- `no` and `no evidence of` is are both _Negative_"
   ]
  },
  {
   "cell_type": "markdown",
   "id": "5c5cd226",
   "metadata": {
    "slideshow": {
     "slide_type": "fragment"
    }
   },
   "source": [
    "Now, if we were to encounter a **new report**, we would be able to identify and categorise these phrases. Take a look at the report below, do you think it is positive or negative for fungal infection?"
   ]
  },
  {
   "cell_type": "code",
   "execution_count": null,
   "id": "c50bab99",
   "metadata": {
    "slideshow": {
     "slide_type": "subslide"
    },
    "tags": [
     "hide-output"
    ]
   },
   "outputs": [],
   "source": [
    "print(df.loc[25].report)"
   ]
  },
  {
   "cell_type": "markdown",
   "id": "a6292814",
   "metadata": {
    "slideshow": {
     "slide_type": "fragment"
    }
   },
   "source": [
    "<div class=\"alert alert-block alert-info\">\n",
    "Already familiar to us are the phrases <code>Pneumocystis</code>, which is a type of <i>Fungus</i>, and <code>fungal elements</code> categorised as <i>FungalDescriptor</i>. The report clearly states that <code>there is no evidence of Pneumocystis</code>.\n",
    "</div>"
   ]
  },
  {
   "cell_type": "markdown",
   "id": "079b42d2",
   "metadata": {
    "slideshow": {
     "slide_type": "subslide"
    }
   },
   "source": [
    "If at this point we were to ask a medical professional to **help us find other mentions of fungal infection**, they would point us to phrases:\n",
    "- `fungal hyphae`\n",
    "- `thick, non-septate and branch at 90 degrees`\n",
    "- `Aspergillus` \n",
    "\n",
    "The first two would be tagged as _FungalDescriptor_ and the latter as a type of _Fungus_."
   ]
  },
  {
   "cell_type": "markdown",
   "id": "d5488427",
   "metadata": {
    "slideshow": {
     "slide_type": "fragment"
    }
   },
   "source": [
    "<div class=\"alert alert-block alert-info\">\n",
    "With this <b>additional knowledge</b> we can now confidently say that the report is positive for fungal infection: <code>the smear contains scattered fungal hyphae</code> and <code>fungal elements resembling Aspergillus identified</code> both suggest there is something going on. \n",
    "</div>"
   ]
  },
  {
   "cell_type": "markdown",
   "id": "a7504e64",
   "metadata": {
    "slideshow": {
     "slide_type": "slide"
    }
   },
   "source": [
    "___\n",
    "## Annotations in the CHIFIR dataset"
   ]
  },
  {
   "cell_type": "markdown",
   "id": "d7d8ce46",
   "metadata": {
    "slideshow": {
     "slide_type": "fragment"
    }
   },
   "source": [
    "The example above showed us why it is important to look through multiple reports to **collect as much information as possible**.\n",
    "\n",
    "Luckily, some kind medical professionals agreed to annotate all of our 283 reports tagging words and phrases that belong to one of the concept categories. We refer to these as the **gold standard**. Let's take a look at what was annotated:"
   ]
  },
  {
   "cell_type": "code",
   "execution_count": null,
   "id": "bb6feb62",
   "metadata": {},
   "outputs": [],
   "source": [
    "# Parse annotation files and load gold standard annotations\n",
    "concepts = utils.read_annotations(df, path + \"annotations/\")"
   ]
  },
  {
   "cell_type": "markdown",
   "id": "58bc144b",
   "metadata": {
    "slideshow": {
     "slide_type": "fragment"
    }
   },
   "source": [
    "Below is a table summarising how common are the concept categories and how much the language used varies within each category."
   ]
  },
  {
   "cell_type": "markdown",
   "id": "dcda83e9",
   "metadata": {
    "slideshow": {
     "slide_type": "subslide"
    }
   },
   "source": [
    "| **Concept category** | **Examples** | **Total occurrences** | **Number of reports with at least one occurrence**| **Number of unique phrases** | **Lexical diversity** |\n",
    "|:----------------------:|:--------------------------------------------------------|:---:|:---:|:---:|:---:|\n",
    "| _ClinicalQuery_      | ?cryptococcus, ?fungal infection|65|53|36|0.55|\n",
    "| _FungalDescriptor_   | budding yeasts, fungal hyphae, pathogenic organisms|282|128|67|0.24|\n",
    "| _Fungus_             | aspergillus, candida, cryptococcal organisms|106|60|15|0.14|\n",
    "| _Invasiveness_       | angioinvasion, infiltration, intravascular spaces|37|12|25|0.68|\n",
    "| _Stain_              | alcian blue, d/pas, grocott, mucicarmine|172|100|13|0.08|\n",
    "| _SampleType_         | abdomen, cheek, lung, lymph node, skin|198|179|55|0.28|\n",
    "| _Positive_           | containing, favouring, resembling, suggestive|118|42|37|0.31|\n",
    "| _Equivocal_          | atypical, possibility, possible|7|5|5|0.71|\n",
    "| _Negative_           | do not feature, failed to identify, no evidence, not seen|152|104|11|0.07|\n",
    "\n",
    "\n",
    "\n",
    "\n",
    "\n",
    "\n",
    "\n",
    "\n"
   ]
  },
  {
   "cell_type": "markdown",
   "id": "22bd5d29",
   "metadata": {
    "slideshow": {
     "slide_type": "subslide"
    }
   },
   "source": [
    "<div class=\"alert alert-block alert-success\">    \n",
    "<h2>Considerations when doing NER</h2>\n",
    "<br/>\n",
    "<li><b>The size of the datase:</b> We only have 283 reports and some concept categories (e.g., <i>Equivocal</i>) are very rare.</li>\n",
    "<br/>\n",
    "<li><b>Lexical diversity:</b> There may be more than one way to say the same thing. <i>Stain</i> and <i>Negative</i> are looking good, <i>ClinicalQuery</i> and <i>Invasiveness</i> are going to be tricky.</li>\n",
    "<br/>\n",
    "<li><b>Very specific/narrow subject / Limited utility:</b> Pre-trained models / terminology sets are likely to be too generic.</li>\n",
    "</div>"
   ]
  },
  {
   "cell_type": "markdown",
   "id": "96aacac2",
   "metadata": {
    "slideshow": {
     "slide_type": "slide"
    }
   },
   "source": [
    "___\n",
    "# NER"
   ]
  },
  {
   "cell_type": "markdown",
   "id": "a911ae07",
   "metadata": {
    "slideshow": {
     "slide_type": "slide"
    }
   },
   "source": [
    "___\n",
    "## Dictionary-based approach"
   ]
  },
  {
   "cell_type": "markdown",
   "id": "7967ad9c",
   "metadata": {
    "slideshow": {
     "slide_type": "fragment"
    }
   },
   "source": [
    "### How does it work?\n",
    "\n",
    "Think back to our example. Let's construct a dictionary of possible phrases for each concept category. Here is what our dictionary would look like after parsing the first report:\n",
    "-  _ClinicalQuery_: `?fungal`\n",
    "-  _FungalDescriptor_: `fungal elements`\n",
    "-  _Fungus_: `Pneumocystis`\n",
    "-  _Stain_: `Grocott`"
   ]
  },
  {
   "cell_type": "markdown",
   "id": "204ab87c",
   "metadata": {
    "slideshow": {
     "slide_type": "subslide"
    }
   },
   "source": [
    "After reading through the second report, we can add a few more phrases to our dictionary:\n",
    "-  _ClinicalQuery_: `?fungal`\n",
    "-  _FungalDescriptor_: `fungal elements`, `fungal hyphae`, `thick, non-septate and branch at 90 degrees`\n",
    "-  _Fungus_: `Pneumocystis`, `Aspergillus`\n",
    "-  _Stain_: `Grocott`"
   ]
  },
  {
   "cell_type": "markdown",
   "id": "7976e816",
   "metadata": {
    "slideshow": {
     "slide_type": "fragment"
    }
   },
   "source": [
    "<div class=\"alert alert-block alert-info\">\n",
    "Now, if we were to stop here, these two reports would constitute the <b>training set</b> and the updated dictionary would be our <b>learned dictionary</b>. The remaining unseen 281 reports would be the <b>test set</b>. Alternatively, we can continue updating the dictionary by parsing addtional reports. \n",
    "</div>"
   ]
  },
  {
   "cell_type": "markdown",
   "id": "35398d3a",
   "metadata": {
    "slideshow": {
     "slide_type": "subslide"
    }
   },
   "source": [
    "### Once we have learned the dictionary\n",
    "\n",
    "Here are the steps to apply it to an **unseen report**:\n",
    "- Tokenise the report in the same manner as the reports in the training set.\n",
    "- Scan the report to find tokens that match the learned dictionary.\n",
    "- If there is a match, record the start and the end character positions and the concept category. "
   ]
  },
  {
   "cell_type": "markdown",
   "id": "2223ada8",
   "metadata": {
    "slideshow": {
     "slide_type": "subslide"
    }
   },
   "source": [
    "### What to expect?\n",
    "- Poor performace if the **training set is too small**.\n",
    "- Poor performance if **lexical diversity is high**. This includes **spelling mistakes!**\n",
    "- Good performance if the **language is consistent** and if **context does not play a big part**.\n",
    "- **Very easy to interpret**. Good if you want to be able to visualise the workings of your NER and present it to non-tech audiences. "
   ]
  },
  {
   "cell_type": "markdown",
   "id": "37e05cff",
   "metadata": {
    "slideshow": {
     "slide_type": "slide"
    }
   },
   "source": [
    "___\n",
    "## Conditional random fields (CRF) model"
   ]
  },
  {
   "cell_type": "markdown",
   "id": "11991f24",
   "metadata": {
    "slideshow": {
     "slide_type": "fragment"
    }
   },
   "source": [
    "### How does it work?\n",
    "\n",
    "Let's think a bit about the **context**. \n",
    "\n",
    "Some phases are unambiguous, such as scientific names of fungal species. Others are open to more than one interpretation, for example, the word `organisms` might refer to a fungal, bacterial, or possibly viral infection.\n",
    "- While the dictionary-based approach might know to recognise `fungal organisms`, a slightly more complex phrase `organisms of fungal origin`, if not seen before, would present a challenge. \n",
    "- Same goes for false positives: we would not want to pick up `organisms` if the context it is mentioned in has nothing to do with fungal infection. "
   ]
  },
  {
   "cell_type": "markdown",
   "id": "46afe36a",
   "metadata": {
    "slideshow": {
     "slide_type": "fragment"
    }
   },
   "source": [
    "<div class=\"alert alert-block alert-info\">\n",
    "A CRF model allows to incorporate <b>contextual features</b> to address this polysemy. The goal here is to augment a given word with attributes describing its position in the text and spatial (contextual) relation to other words in the document.\n",
    "</div>"
   ]
  },
  {
   "cell_type": "markdown",
   "id": "56d163d1",
   "metadata": {
    "slideshow": {
     "slide_type": "subslide"
    }
   },
   "source": [
    "### Which features to include?\n",
    "\n",
    "In this exercise we included the following word attributes:\n",
    "- The start and end character positions\n",
    "- Capitalisation patterns (i.e., if the word starts with a capital letter, is uppercased, lowercased, or has alternating casing)\n",
    "- Morphologic patterns (i.e., word prefixes and suffixes)\n",
    "- Numeric and punctuation patterns (i.e., if the word contains any digits, hyphens, etc.)\n",
    "\n",
    "Other common attributes are: **part-of-speech tags**, **sentence-level position**, **preceeding and following words**."
   ]
  },
  {
   "cell_type": "markdown",
   "id": "b4416fab",
   "metadata": {
    "slideshow": {
     "slide_type": "subslide"
    }
   },
   "source": [
    "### How to apply to new data?\n",
    "Here are the key steps to apply CRF NER to an **unseen report**:\n",
    "- Tokenise the report in the same manner as the reports in the training set.\n",
    "- For each token, compute word attributes, where possible.\n",
    "- Apply a trained CRF model to make predictions based on the attributes and the predicted label of the preceeding word. "
   ]
  },
  {
   "cell_type": "markdown",
   "id": "9202b6c9",
   "metadata": {
    "slideshow": {
     "slide_type": "subslide"
    }
   },
   "source": [
    "### What to expect?\n",
    "\n",
    "- Good performance when **linguistic structure is consistent**\n",
    "- Poor performance if the included **attributes are not predcitive**\n",
    "- Poor performance if **attributes are not computable**\n",
    "- Still quite **easy to interpret**"
   ]
  },
  {
   "cell_type": "markdown",
   "id": "4bb293fb",
   "metadata": {
    "slideshow": {
     "slide_type": "slide"
    }
   },
   "source": [
    "...Before we go on, let's consider the major levels of linguistic structure:\n",
    "<div>\n",
    "<img src=\"Major levels of linguistic structure.svg\" width=\"500\"/>\n",
    "</div>\n",
    "\n",
    "[Source: Wikipedia](https://en.wikipedia.org/wiki/Linguistics)"
   ]
  },
  {
   "cell_type": "markdown",
   "id": "fb723e47",
   "metadata": {
    "slideshow": {
     "slide_type": "slide"
    }
   },
   "source": [
    "___\n",
    "## Transformer models"
   ]
  },
  {
   "cell_type": "markdown",
   "id": "fc9f72cf",
   "metadata": {
    "slideshow": {
     "slide_type": "fragment"
    }
   },
   "source": [
    "### How does it work?\n",
    "\n",
    "- Text is split into tokens and subtokens which are mapped (encoded) to numeric vectors.\n",
    "- Each encoding depends on the word itself and all its neighbours (broader context).\n",
    "- Attention mechanism helps to focus on the more important words."
   ]
  },
  {
   "cell_type": "markdown",
   "id": "a0927992",
   "metadata": {
    "slideshow": {
     "slide_type": "fragment"
    }
   },
   "source": [
    "<div class=\"alert alert-block alert-info\">   \n",
    "Intuitively:\n",
    "<li>The dictionary-based approach operates on the level of indivadual words.</li>\n",
    "<br/>\n",
    "<li>CRFs start to dip into the syntaxis by taking into account closest neighbours.</li>\n",
    "<br/>\n",
    "<li>A transformer model allows us to scale out and start inferring the semantics by handling long-range dependencies between words.</li>\n",
    "</div>"
   ]
  },
  {
   "cell_type": "markdown",
   "id": "742e502d",
   "metadata": {
    "slideshow": {
     "slide_type": "subslide"
    }
   },
   "source": [
    "### How to apply to ~~new~~ your data?\n",
    "\n",
    "When there is a limited amount of annotated data, it is common to fine-tune a pre-trained transformer model rather than training it from scratch.\n",
    "\n",
    "BERT is the most popular architectiure with many flavours pre-trained on different datasets:\n",
    "- BioBERT (large-scale biomedical corpora)\n",
    "- PubMedBERT (Pubmed articles)\n",
    "- ClinicalBERT (EHR notes)\n",
    "- DischargeSummaryBERT (EHR discharge summaries)"
   ]
  },
  {
   "cell_type": "markdown",
   "id": "696989a3",
   "metadata": {
    "slideshow": {
     "slide_type": "fragment"
    }
   },
   "source": [
    "<div class=\"alert alert-block alert-info\">   \n",
    "You'll have to decide which flavours fit your problem best. It might be worth talking to clinicians to narrow down the number of models before stepping into training.\n",
    "</div>"
   ]
  },
  {
   "cell_type": "markdown",
   "id": "691ebfd1",
   "metadata": {
    "slideshow": {
     "slide_type": "fragment"
    }
   },
   "source": [
    "For both fine-tuning and testing, the key step is to prepare your data in **exactly the same way** as it was done for the initial training."
   ]
  },
  {
   "cell_type": "markdown",
   "id": "bfbd85df",
   "metadata": {
    "slideshow": {
     "slide_type": "subslide"
    }
   },
   "source": [
    "### What to expect?\n",
    "\n",
    "- Good performance if the annotated dataset is **generally similar to the data used in pre-training**\n",
    "- Poor performance if the amount of data is **not enough even for fine-tuning**\n",
    "- **Non-trivial to explain** the inner workings of a transformer model"
   ]
  },
  {
   "cell_type": "markdown",
   "id": "f95d1e2b",
   "metadata": {
    "slideshow": {
     "slide_type": "slide"
    }
   },
   "source": [
    "___\n",
    "## Comparison\n",
    "\n",
    "<div>\n",
    "<img src=\"precision on test.png\"/>\n",
    "</div>"
   ]
  },
  {
   "cell_type": "markdown",
   "id": "4ed27829",
   "metadata": {
    "slideshow": {
     "slide_type": "subslide"
    }
   },
   "source": [
    "<div>\n",
    "<img src=\"recall on test.png\"/>\n",
    "</div>"
   ]
  },
  {
   "cell_type": "markdown",
   "id": "d3b7b3ec",
   "metadata": {
    "slideshow": {
     "slide_type": "slide"
    }
   },
   "source": [
    "<div class=\"alert alert-block alert-success\">    \n",
    "<h2>Other tips, considerations, and food for thought</h2>\n",
    "    <br/>\n",
    "    <li><b>Negation</b> detection (e.g., <a href=\"https://www.sciencedirect.com/science/article/pii/S1532046401910299\">NegEx by Wendy Chapman</a> and its spacy implementation <a href=\"https://spacy.io/universe/project/negspacy\">negspacy</a>)</li>\n",
    "    <br/>\n",
    "    <li>Equivocal/positive terms: can we implement <b>uncertainty/affirmation</b> detection?</li>\n",
    "    <br/>\n",
    "    <li>Other tools for clinical NER:\n",
    "        <ul>\n",
    "            <li>Using a knowledge base (e.g., <a href=\"https://lhncbc.nlm.nih.gov/ii/tools/MetaMap.html\">MetaMap</a>)</li>\n",
    "            <li>Pre-trained CRF/transition-based models (e.g., <a href=\"https://spacy.io/api/entityrecognizer\">spacy's NER</a> and its derivatives <a href=\"https://github.com/allenai/scispacy\">ScispaCy</a>, <a href=\"https://spacy.io/universe/project/medspacy\">medspaCy</a>)</li>\n",
    "            <li>Combined rule- and machine learning-based models (e.g., <a href=\"https://medcat.rosalind.kcl.ac.uk\">MedCAT</a>)</li>\n",
    "        </ul>\n",
    "    </li>\n",
    "    <br/>\n",
    "    <li>How to <b>pre-annotate the data</b>? (e.g., running Metamap before feeding into clinicians)</li>\n",
    "    <br/>\n",
    "    <li><b>Relation extraction, concept linking</b></li>\n",
    "</div>"
   ]
  }
 ],
 "metadata": {
  "celltoolbar": "Slideshow",
  "kernelspec": {
   "display_name": "Python 3 (ipykernel)",
   "language": "python",
   "name": "python3"
  },
  "language_info": {
   "codemirror_mode": {
    "name": "ipython",
    "version": 3
   },
   "file_extension": ".py",
   "mimetype": "text/x-python",
   "name": "python",
   "nbconvert_exporter": "python",
   "pygments_lexer": "ipython3",
   "version": "3.10.13"
  }
 },
 "nbformat": 4,
 "nbformat_minor": 5
}
