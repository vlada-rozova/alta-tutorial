{
 "cells": [
  {
   "cell_type": "code",
   "execution_count": 1,
   "id": "0ea42d3f",
   "metadata": {},
   "outputs": [],
   "source": [
    "import numpy as np\n",
    "import pandas as pd\n",
    "import re\n",
    "import spacy\n",
    "\n",
    "from sklearn_crfsuite import CRF\n",
    "\n",
    "import utils, crf_utils, eval_utils\n",
    "\n",
    "import warnings\n",
    "warnings.filterwarnings(\"ignore\")"
   ]
  },
  {
   "cell_type": "markdown",
   "id": "1956f301",
   "metadata": {},
   "source": [
    "___\n",
    "# Load CHIFIR data"
   ]
  },
  {
   "cell_type": "code",
   "execution_count": 2,
   "id": "52b4d986",
   "metadata": {},
   "outputs": [],
   "source": [
    "# Path to the CHIFIR dataset\n",
    "path = \"../../../Data/CHIFIR/\""
   ]
  },
  {
   "cell_type": "code",
   "execution_count": 3,
   "id": "259575e6",
   "metadata": {},
   "outputs": [
    {
     "data": {
      "text/html": [
       "<div>\n",
       "<style scoped>\n",
       "    .dataframe tbody tr th:only-of-type {\n",
       "        vertical-align: middle;\n",
       "    }\n",
       "\n",
       "    .dataframe tbody tr th {\n",
       "        vertical-align: top;\n",
       "    }\n",
       "\n",
       "    .dataframe thead th {\n",
       "        text-align: right;\n",
       "    }\n",
       "</style>\n",
       "<table border=\"1\" class=\"dataframe\">\n",
       "  <thead>\n",
       "    <tr style=\"text-align: right;\">\n",
       "      <th></th>\n",
       "      <th>patient_id</th>\n",
       "      <th>report_no</th>\n",
       "      <th>y_report</th>\n",
       "      <th>histopathology_id</th>\n",
       "      <th>val_fold</th>\n",
       "      <th>dataset</th>\n",
       "    </tr>\n",
       "  </thead>\n",
       "  <tbody>\n",
       "    <tr>\n",
       "      <th>0</th>\n",
       "      <td>13</td>\n",
       "      <td>1</td>\n",
       "      <td>Positive</td>\n",
       "      <td>658</td>\n",
       "      <td>10.0</td>\n",
       "      <td>development</td>\n",
       "    </tr>\n",
       "    <tr>\n",
       "      <th>1</th>\n",
       "      <td>14</td>\n",
       "      <td>1</td>\n",
       "      <td>Positive</td>\n",
       "      <td>189</td>\n",
       "      <td>7.0</td>\n",
       "      <td>development</td>\n",
       "    </tr>\n",
       "    <tr>\n",
       "      <th>2</th>\n",
       "      <td>28</td>\n",
       "      <td>1</td>\n",
       "      <td>Negative</td>\n",
       "      <td>529</td>\n",
       "      <td>8.0</td>\n",
       "      <td>development</td>\n",
       "    </tr>\n",
       "    <tr>\n",
       "      <th>3</th>\n",
       "      <td>28</td>\n",
       "      <td>2</td>\n",
       "      <td>Positive</td>\n",
       "      <td>325</td>\n",
       "      <td>8.0</td>\n",
       "      <td>development</td>\n",
       "    </tr>\n",
       "    <tr>\n",
       "      <th>4</th>\n",
       "      <td>28</td>\n",
       "      <td>3</td>\n",
       "      <td>Negative</td>\n",
       "      <td>559</td>\n",
       "      <td>8.0</td>\n",
       "      <td>development</td>\n",
       "    </tr>\n",
       "  </tbody>\n",
       "</table>\n",
       "</div>"
      ],
      "text/plain": [
       "   patient_id  report_no  y_report  histopathology_id  val_fold      dataset\n",
       "0          13          1  Positive                658      10.0  development\n",
       "1          14          1  Positive                189       7.0  development\n",
       "2          28          1  Negative                529       8.0  development\n",
       "3          28          2  Positive                325       8.0  development\n",
       "4          28          3  Negative                559       8.0  development"
      ]
     },
     "execution_count": 3,
     "metadata": {},
     "output_type": "execute_result"
    }
   ],
   "source": [
    "# Load the csv file with report metadata\n",
    "df = pd.read_csv(path + \"chifir_metadata.csv\")\n",
    "df.head()"
   ]
  },
  {
   "cell_type": "code",
   "execution_count": 4,
   "id": "3e499fb5",
   "metadata": {},
   "outputs": [],
   "source": [
    "# Separate the test set to prevent data leakage\n",
    "df_test = df[df.dataset=='test'].copy()\n",
    "df.drop(index=df_test.index, inplace=True)\n",
    "df.reset_index(drop=True, inplace=True)"
   ]
  },
  {
   "cell_type": "code",
   "execution_count": 5,
   "id": "c92e09b4",
   "metadata": {},
   "outputs": [],
   "source": [
    "# Add free-text reports to the dataframe\n",
    "df['report'] = df.apply(utils.read_report, path=path + \"reports/\", axis=1)"
   ]
  },
  {
   "cell_type": "code",
   "execution_count": 6,
   "id": "92beafa4",
   "metadata": {},
   "outputs": [
    {
     "data": {
      "text/html": [
       "<div>\n",
       "<style scoped>\n",
       "    .dataframe tbody tr th:only-of-type {\n",
       "        vertical-align: middle;\n",
       "    }\n",
       "\n",
       "    .dataframe tbody tr th {\n",
       "        vertical-align: top;\n",
       "    }\n",
       "\n",
       "    .dataframe thead th {\n",
       "        text-align: right;\n",
       "    }\n",
       "</style>\n",
       "<table border=\"1\" class=\"dataframe\">\n",
       "  <thead>\n",
       "    <tr style=\"text-align: right;\">\n",
       "      <th></th>\n",
       "      <th>histopathology_id</th>\n",
       "      <th>patient_id</th>\n",
       "      <th>report_no</th>\n",
       "      <th>concept_id</th>\n",
       "      <th>concept</th>\n",
       "      <th>phrase</th>\n",
       "      <th>start_char</th>\n",
       "      <th>end_char</th>\n",
       "    </tr>\n",
       "  </thead>\n",
       "  <tbody>\n",
       "    <tr>\n",
       "      <th>0</th>\n",
       "      <td>658</td>\n",
       "      <td>13</td>\n",
       "      <td>1</td>\n",
       "      <td>T2</td>\n",
       "      <td>Invasiveness</td>\n",
       "      <td>intravascular spaces</td>\n",
       "      <td>669</td>\n",
       "      <td>689</td>\n",
       "    </tr>\n",
       "    <tr>\n",
       "      <th>1</th>\n",
       "      <td>658</td>\n",
       "      <td>13</td>\n",
       "      <td>1</td>\n",
       "      <td>T4</td>\n",
       "      <td>Stain</td>\n",
       "      <td>PAS</td>\n",
       "      <td>715</td>\n",
       "      <td>718</td>\n",
       "    </tr>\n",
       "    <tr>\n",
       "      <th>2</th>\n",
       "      <td>658</td>\n",
       "      <td>13</td>\n",
       "      <td>1</td>\n",
       "      <td>T5</td>\n",
       "      <td>Stain</td>\n",
       "      <td>GMS</td>\n",
       "      <td>723</td>\n",
       "      <td>726</td>\n",
       "    </tr>\n",
       "    <tr>\n",
       "      <th>3</th>\n",
       "      <td>658</td>\n",
       "      <td>13</td>\n",
       "      <td>1</td>\n",
       "      <td>T9</td>\n",
       "      <td>positive</td>\n",
       "      <td>positive</td>\n",
       "      <td>700</td>\n",
       "      <td>708</td>\n",
       "    </tr>\n",
       "    <tr>\n",
       "      <th>4</th>\n",
       "      <td>658</td>\n",
       "      <td>13</td>\n",
       "      <td>1</td>\n",
       "      <td>T3</td>\n",
       "      <td>FungalDescriptor</td>\n",
       "      <td>necrotic fungi</td>\n",
       "      <td>651</td>\n",
       "      <td>665</td>\n",
       "    </tr>\n",
       "  </tbody>\n",
       "</table>\n",
       "</div>"
      ],
      "text/plain": [
       "  histopathology_id patient_id report_no concept_id           concept  \\\n",
       "0               658         13         1         T2      Invasiveness   \n",
       "1               658         13         1         T4             Stain   \n",
       "2               658         13         1         T5             Stain   \n",
       "3               658         13         1         T9          positive   \n",
       "4               658         13         1         T3  FungalDescriptor   \n",
       "\n",
       "                 phrase start_char end_char  \n",
       "0  intravascular spaces        669      689  \n",
       "1                   PAS        715      718  \n",
       "2                   GMS        723      726  \n",
       "3              positive        700      708  \n",
       "4        necrotic fungi        651      665  "
      ]
     },
     "execution_count": 6,
     "metadata": {},
     "output_type": "execute_result"
    }
   ],
   "source": [
    "# Parse annotation files and load gold standard annotations\n",
    "concepts = utils.read_annotations(df, path=path + \"annotations/\")\n",
    "concepts.head()"
   ]
  },
  {
   "cell_type": "markdown",
   "id": "8fd95e87",
   "metadata": {},
   "source": [
    "___\n",
    "# Prepare gold standard annotations and reports\n",
    "### Load tokeniser"
   ]
  },
  {
   "cell_type": "code",
   "execution_count": 7,
   "id": "69943485",
   "metadata": {},
   "outputs": [],
   "source": [
    "# Load spacy model with disabled NER\n",
    "nlp = spacy.load(\"en_core_web_sm\", exclude=['ner'])\n",
    "\n",
    "# Enable sentensizer\n",
    "nlp.enable_pipe('senter')"
   ]
  },
  {
   "cell_type": "markdown",
   "id": "5c6e7075",
   "metadata": {},
   "source": [
    "### Assign BIOES tags"
   ]
  },
  {
   "cell_type": "code",
   "execution_count": 8,
   "id": "2ae53a9d",
   "metadata": {},
   "outputs": [
    {
     "name": "stdout",
     "output_type": "stream",
     "text": [
      "After assigning BIOES tags there are a total of 1366 concepts.\n"
     ]
    }
   ],
   "source": [
    "# Apply tokenizer to distinguish between single and multiple token entities\n",
    "concepts['doc'] = concepts.phrase.apply(nlp.tokenizer)\n",
    "\n",
    "# Assign BIOES tags\n",
    "concepts_bioes = crf_utils.assign_bioes_tags(concepts)"
   ]
  },
  {
   "cell_type": "markdown",
   "id": "b0040de6",
   "metadata": {},
   "source": [
    "### Apply spacy pipeline to reports"
   ]
  },
  {
   "cell_type": "code",
   "execution_count": 9,
   "id": "38450244",
   "metadata": {},
   "outputs": [],
   "source": [
    "df['doc'] = df.report.apply(nlp)"
   ]
  },
  {
   "cell_type": "markdown",
   "id": "4a9b35d1",
   "metadata": {},
   "source": [
    "### Extract features"
   ]
  },
  {
   "cell_type": "code",
   "execution_count": 10,
   "id": "e8e2c01e",
   "metadata": {},
   "outputs": [],
   "source": [
    "# Feature map\n",
    "df['token_features'] = df.doc.apply(crf_utils.create_features)"
   ]
  },
  {
   "cell_type": "markdown",
   "id": "a5f6697c",
   "metadata": {},
   "source": [
    "### Label concepts"
   ]
  },
  {
   "cell_type": "code",
   "execution_count": 11,
   "id": "c35fa04a",
   "metadata": {},
   "outputs": [],
   "source": [
    "# Labels\n",
    "df['token_labels'] = df.apply(crf_utils.create_labels, concepts=concepts_bioes, axis=1)"
   ]
  },
  {
   "cell_type": "markdown",
   "id": "f9eb9e77",
   "metadata": {},
   "source": [
    "___\n",
    "# Model selection\n",
    "### Hyperparameter tuning"
   ]
  },
  {
   "cell_type": "code",
   "execution_count": 12,
   "id": "3b26d543",
   "metadata": {},
   "outputs": [],
   "source": [
    "# %%time\n",
    "# X = df.report\n",
    "# y = df.y\n",
    "# groups = df.patient_id\n",
    "\n",
    "# param_space = {\n",
    "#     'c1': [0.01, 0.1, 1, 10],\n",
    "#     'c2': [0.01, 0.1, 1, 10],\n",
    "# #     'all_possible_states': [False, True],\n",
    "# #     'all_possible_transitions': [False, True],\n",
    "# }\n",
    "\n",
    "# best_params = None\n",
    "# best_score = float('-inf')\n",
    "\n",
    "# for c1 in param_space['c1']:\n",
    "#     for c2 in param_space['c2']:\n",
    "\n",
    "#         cv = utils.get_cv_strategy()\n",
    "#         f1_score = []\n",
    "\n",
    "#         for train_idx, val_idx in cv.split(X, y, groups):\n",
    "            \n",
    "#             # Initialise CRF object \n",
    "#             crf = CRF(algorithm='lbfgs', c1=c1, c2=c2)\n",
    "\n",
    "#             # Train the model\n",
    "#             crf.fit(df.loc[train_idx, 'token_features'], df.loc[train_idx, 'token_labels'])\n",
    "\n",
    "#             # Make predictions on the validation fold\n",
    "#             y_pred = crf.predict(df.loc[val_idx, 'token_features'])\n",
    "\n",
    "#             # Calculate macro f1\n",
    "#             f1_score.append(flat_f1_score(df.loc[val_idx, 'token_labels'], y_pred, average='macro'))\n",
    "            \n",
    "#         print(\"With parameters c1=%.2f and c2=%.2f, the model achieves %.2f (+/- %.2f).\" % \n",
    "#               (c1, c2, np.mean(f1_score), np.std(f1_score)))\n",
    "\n",
    "#         if np.mean(f1_score) > best_score:\n",
    "#             best_score = np.mean(f1_score)\n",
    "#             best_params = {'c1': c1, 'c2': c2}\n",
    "                \n",
    "                \n",
    "# print(\"Best macro F1 score = %.2f. Best hyperparameter values: c1=%.2f and c2=%.2f.\" % \n",
    "#       (best_score, best_params['c1'], best_params['c2']))"
   ]
  },
  {
   "cell_type": "markdown",
   "id": "88732d9c",
   "metadata": {},
   "source": [
    "### Model evaluation"
   ]
  },
  {
   "cell_type": "code",
   "execution_count": 13,
   "id": "2bbf2046",
   "metadata": {},
   "outputs": [],
   "source": [
    "X = df.report\n",
    "y = df.y_report\n",
    "groups = df.patient_id\n",
    "\n",
    "cv = utils.get_cv_strategy()\n",
    "\n",
    "df['y_pred'] = np.empty((len(df), 0)).tolist()\n",
    "\n",
    "for train_idx, val_idx in cv.split(X, y, groups):\n",
    "            \n",
    "    # Initialise CRF object \n",
    "    crf = CRF(algorithm='lbfgs', c1=0.01, c2=0.1, max_iterations=100, all_possible_transitions=True)\n",
    "\n",
    "    # Train the model\n",
    "    crf.fit(df.loc[train_idx, 'token_features'], df.loc[train_idx, 'token_labels'])\n",
    "\n",
    "    # Make predictions on the validation fold\n",
    "    df.loc[val_idx, 'y_pred'] = pd.Series(crf.predict(df.loc[val_idx, 'token_features']), \n",
    "                                          index=val_idx)"
   ]
  },
  {
   "cell_type": "markdown",
   "id": "fabf6a90",
   "metadata": {},
   "source": [
    "### Evaluate predicitons"
   ]
  },
  {
   "cell_type": "code",
   "execution_count": 14,
   "id": "843b766c",
   "metadata": {},
   "outputs": [
    {
     "name": "stdout",
     "output_type": "stream",
     "text": [
      "                  mean   std\n",
      "concept                     \n",
      "ClinicalQuery     0.98  0.08\n",
      "FungalDescriptor  0.93  0.06\n",
      "Fungus            0.98  0.05\n",
      "Invasiveness      0.67  0.58\n",
      "Stain             0.96  0.06\n",
      "SampleType        0.59  0.14\n",
      "positive          0.73  0.37\n",
      "equivocal          NaN   NaN\n",
      "negative          0.89  0.09\n",
      "                  mean   std\n",
      "concept                     \n",
      "ClinicalQuery     0.72  0.22\n",
      "FungalDescriptor  0.80  0.11\n",
      "Fungus            0.80  0.21\n",
      "Invasiveness      0.13  0.21\n",
      "Stain             0.92  0.09\n",
      "SampleType        0.26  0.11\n",
      "positive          0.20  0.21\n",
      "equivocal         0.00  0.00\n",
      "negative          0.58  0.12\n"
     ]
    }
   ],
   "source": [
    "# Transform predictions to a dataframe of concepts\n",
    "detected_concepts = crf_utils.prediction2concept(df)\n",
    "\n",
    "# Get feature names\n",
    "feature_names = utils.get_feature_names('concepts')\n",
    "\n",
    "# Calculate precision and recall\n",
    "eval_utils.evaluate_ner_cv(df[['histopathology_id', 'val_fold']], \n",
    "                           concepts, detected_concepts, feature_names)"
   ]
  },
  {
   "cell_type": "markdown",
   "id": "44fa281e",
   "metadata": {},
   "source": [
    "### Evaluate predicitons with BIOES tags"
   ]
  },
  {
   "cell_type": "code",
   "execution_count": 16,
   "id": "1ed66a04",
   "metadata": {},
   "outputs": [
    {
     "name": "stdout",
     "output_type": "stream",
     "text": [
      "                    mean   std\n",
      "concept                       \n",
      "B-ClinicalQuery     0.86  0.21\n",
      "I-ClinicalQuery     0.60  0.27\n",
      "E-ClinicalQuery     0.77  0.28\n",
      "S-ClinicalQuery     0.50  0.71\n",
      "B-FungalDescriptor  0.87  0.09\n",
      "I-FungalDescriptor  0.83  0.41\n",
      "E-FungalDescriptor  0.92  0.07\n",
      "S-FungalDescriptor  0.81  0.18\n",
      "B-Fungus            1.00  0.00\n",
      "I-Fungus             NaN   NaN\n",
      "E-Fungus            1.00  0.00\n",
      "S-Fungus            0.97  0.07\n",
      "B-Invasiveness      0.50  0.71\n",
      "I-Invasiveness      0.33  0.58\n",
      "E-Invasiveness      0.67  0.58\n",
      "S-Invasiveness       NaN   NaN\n",
      "B-Stain             1.00   NaN\n",
      "I-Stain              NaN   NaN\n",
      "E-Stain             1.00   NaN\n",
      "S-Stain             0.92  0.08\n",
      "B-SampleType        0.68  0.31\n",
      "I-SampleType         NaN   NaN\n",
      "E-SampleType        0.68  0.31\n",
      "S-SampleType        0.59  0.20\n",
      "B-positive          1.00  0.00\n",
      "I-positive           NaN   NaN\n",
      "E-positive          1.00  0.00\n",
      "S-positive          0.62  0.44\n",
      "B-equivocal          NaN   NaN\n",
      "I-equivocal          NaN   NaN\n",
      "E-equivocal          NaN   NaN\n",
      "S-equivocal          NaN   NaN\n",
      "B-negative          1.00   NaN\n",
      "I-negative           NaN   NaN\n",
      "E-negative          1.00   NaN\n",
      "S-negative          0.88  0.10\n",
      "                    mean   std\n",
      "concept                       \n",
      "B-ClinicalQuery     0.75  0.26\n",
      "I-ClinicalQuery     0.29  0.37\n",
      "E-ClinicalQuery     0.67  0.28\n",
      "S-ClinicalQuery     0.13  0.30\n",
      "B-FungalDescriptor  0.75  0.15\n",
      "I-FungalDescriptor  0.36  0.35\n",
      "E-FungalDescriptor  0.80  0.11\n",
      "S-FungalDescriptor  0.68  0.24\n",
      "B-Fungus            0.92  0.14\n",
      "I-Fungus             NaN   NaN\n",
      "E-Fungus            0.92  0.14\n",
      "S-Fungus            0.79  0.22\n",
      "B-Invasiveness      0.08  0.20\n",
      "I-Invasiveness      0.08  0.14\n",
      "E-Invasiveness      0.17  0.26\n",
      "S-Invasiveness      0.00  0.00\n",
      "B-Stain             0.08  0.20\n",
      "I-Stain             0.00  0.00\n",
      "E-Stain             0.08  0.20\n",
      "S-Stain             0.94  0.09\n",
      "B-SampleType        0.37  0.38\n",
      "I-SampleType        0.00  0.00\n",
      "E-SampleType        0.37  0.38\n",
      "S-SampleType        0.24  0.11\n",
      "B-positive          0.37  0.46\n",
      "I-positive          0.00  0.00\n",
      "E-positive          0.37  0.46\n",
      "S-positive          0.12  0.16\n",
      "B-equivocal          NaN   NaN\n",
      "I-equivocal          NaN   NaN\n",
      "E-equivocal          NaN   NaN\n",
      "S-equivocal         0.00  0.00\n",
      "B-negative          0.03  0.09\n",
      "I-negative          0.00  0.00\n",
      "E-negative          0.03  0.09\n",
      "S-negative          0.69  0.11\n"
     ]
    }
   ],
   "source": [
    "# Transform predictions to a dataframe of concepts\n",
    "detected_concepts = crf_utils.prediction2concept_bioes(df)\n",
    "\n",
    "# Get feature names\n",
    "feature_names = utils.get_feature_names('concepts', ('B-', 'I-', 'E-', 'S-'))\n",
    "\n",
    "# Calculate precision and recall\n",
    "eval_utils. evaluate_ner_cv(df[['histopathology_id', 'val_fold']], \n",
    "                            concepts_bioes, detected_concepts, feature_names)"
   ]
  },
  {
   "cell_type": "markdown",
   "id": "bc4ff40d",
   "metadata": {},
   "source": [
    "___\n",
    "# Test\n",
    "### Train CRF on the full development set"
   ]
  },
  {
   "cell_type": "code",
   "execution_count": 17,
   "id": "6863631b",
   "metadata": {},
   "outputs": [],
   "source": [
    "# CRF-Suite is clearly very trustworthy since the same two lines below do not work outside of a for loop. \n",
    "for _ in range(1):        \n",
    "    # Initialise CRF object \n",
    "    crf = CRF(algorithm='lbfgs', c1=0.01, c2=0.1, max_iterations=100, all_possible_transitions=True)\n",
    "\n",
    "    # Train the model\n",
    "    crf.fit(df.token_features, df.token_labels)"
   ]
  },
  {
   "cell_type": "markdown",
   "id": "3c869af4",
   "metadata": {},
   "source": [
    "### Load and prepare test data, run the model"
   ]
  },
  {
   "cell_type": "code",
   "execution_count": 18,
   "id": "30d5da8d",
   "metadata": {},
   "outputs": [],
   "source": [
    "# Add free-text reports to the dataframe\n",
    "df_test['report'] = df_test.apply(utils.read_report, path=path + \"reports/\", axis=1)\n",
    "\n",
    "# Apply spacy pipeline to reports\n",
    "df_test['doc'] = df_test.report.apply(nlp)\n",
    "\n",
    "# Extract features\n",
    "df_test['token_features'] = df_test.doc.apply(crf_utils. create_features)\n",
    "\n",
    "# Make predictions\n",
    "df_test['y_pred'] = crf.predict(df_test.token_features)"
   ]
  },
  {
   "cell_type": "markdown",
   "id": "0359902d",
   "metadata": {},
   "source": [
    "### Load and prepare gold standard concepts, evaluate predicitions"
   ]
  },
  {
   "cell_type": "code",
   "execution_count": 19,
   "id": "b6ed7718",
   "metadata": {},
   "outputs": [
    {
     "name": "stdout",
     "output_type": "stream",
     "text": [
      "concept\n",
      "ClinicalQuery       1.00\n",
      "FungalDescriptor    0.93\n",
      "Fungus              0.93\n",
      "Invasiveness         NaN\n",
      "Stain               0.97\n",
      "SampleType          0.50\n",
      "positive            1.00\n",
      "equivocal            NaN\n",
      "negative            0.90\n",
      "dtype: float64\n",
      "\n",
      "concept\n",
      "ClinicalQuery       1.00\n",
      "FungalDescriptor    0.86\n",
      "Fungus              0.78\n",
      "Invasiveness        0.00\n",
      "Stain               0.94\n",
      "SampleType          0.33\n",
      "positive            0.20\n",
      "equivocal            NaN\n",
      "negative            0.35\n",
      "dtype: float64\n"
     ]
    }
   ],
   "source": [
    "# Parse annotation files and load gold standard annotations\n",
    "concepts = utils.read_annotations(df_test, path=path + \"annotations/\")\n",
    "\n",
    "# Transform predictions to a dataframe of concepts\n",
    "detected_concepts = crf_utils.prediction2concept(df_test)\n",
    "\n",
    "# Get feature names\n",
    "feature_names = utils.get_feature_names('concepts')\n",
    "\n",
    "# Calculate precision and recall\n",
    "eval_utils.evaluate_ner(df_test.histopathology_id, \n",
    "                        concepts, detected_concepts, feature_names)"
   ]
  },
  {
   "cell_type": "code",
   "execution_count": null,
   "id": "5cdbf29f",
   "metadata": {},
   "outputs": [],
   "source": []
  }
 ],
 "metadata": {
  "kernelspec": {
   "display_name": "Python 3 (ipykernel)",
   "language": "python",
   "name": "python3"
  },
  "language_info": {
   "codemirror_mode": {
    "name": "ipython",
    "version": 3
   },
   "file_extension": ".py",
   "mimetype": "text/x-python",
   "name": "python",
   "nbconvert_exporter": "python",
   "pygments_lexer": "ipython3",
   "version": "3.10.13"
  }
 },
 "nbformat": 4,
 "nbformat_minor": 5
}
