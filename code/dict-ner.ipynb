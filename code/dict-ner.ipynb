{
 "cells": [
  {
   "cell_type": "code",
   "execution_count": 1,
   "id": "0ea42d3f",
   "metadata": {},
   "outputs": [],
   "source": [
    "import numpy as np\n",
    "import pandas as pd\n",
    "import spacy\n",
    "\n",
    "import utils, dict_utils, eval_utils\n",
    "\n",
    "import warnings\n",
    "warnings.filterwarnings(\"ignore\")"
   ]
  },
  {
   "cell_type": "markdown",
   "id": "aa3d3146",
   "metadata": {},
   "source": [
    "___\n",
    "# Load CHIFIR data"
   ]
  },
  {
   "cell_type": "code",
   "execution_count": 2,
   "id": "301e12ce",
   "metadata": {},
   "outputs": [],
   "source": [
    "# Path to the CHIFIR dataset\n",
    "path = \"../../../Data/CHIFIR/\""
   ]
  },
  {
   "cell_type": "code",
   "execution_count": 3,
   "id": "8a6c7a8a",
   "metadata": {},
   "outputs": [
    {
     "data": {
      "text/html": [
       "<div>\n",
       "<style scoped>\n",
       "    .dataframe tbody tr th:only-of-type {\n",
       "        vertical-align: middle;\n",
       "    }\n",
       "\n",
       "    .dataframe tbody tr th {\n",
       "        vertical-align: top;\n",
       "    }\n",
       "\n",
       "    .dataframe thead th {\n",
       "        text-align: right;\n",
       "    }\n",
       "</style>\n",
       "<table border=\"1\" class=\"dataframe\">\n",
       "  <thead>\n",
       "    <tr style=\"text-align: right;\">\n",
       "      <th></th>\n",
       "      <th>patient_id</th>\n",
       "      <th>report_no</th>\n",
       "      <th>y_report</th>\n",
       "      <th>histopathology_id</th>\n",
       "      <th>val_fold</th>\n",
       "      <th>dataset</th>\n",
       "    </tr>\n",
       "  </thead>\n",
       "  <tbody>\n",
       "    <tr>\n",
       "      <th>0</th>\n",
       "      <td>13</td>\n",
       "      <td>1</td>\n",
       "      <td>Positive</td>\n",
       "      <td>658</td>\n",
       "      <td>10.0</td>\n",
       "      <td>development</td>\n",
       "    </tr>\n",
       "    <tr>\n",
       "      <th>1</th>\n",
       "      <td>14</td>\n",
       "      <td>1</td>\n",
       "      <td>Positive</td>\n",
       "      <td>189</td>\n",
       "      <td>7.0</td>\n",
       "      <td>development</td>\n",
       "    </tr>\n",
       "    <tr>\n",
       "      <th>2</th>\n",
       "      <td>28</td>\n",
       "      <td>1</td>\n",
       "      <td>Negative</td>\n",
       "      <td>529</td>\n",
       "      <td>8.0</td>\n",
       "      <td>development</td>\n",
       "    </tr>\n",
       "    <tr>\n",
       "      <th>3</th>\n",
       "      <td>28</td>\n",
       "      <td>2</td>\n",
       "      <td>Positive</td>\n",
       "      <td>325</td>\n",
       "      <td>8.0</td>\n",
       "      <td>development</td>\n",
       "    </tr>\n",
       "    <tr>\n",
       "      <th>4</th>\n",
       "      <td>28</td>\n",
       "      <td>3</td>\n",
       "      <td>Negative</td>\n",
       "      <td>559</td>\n",
       "      <td>8.0</td>\n",
       "      <td>development</td>\n",
       "    </tr>\n",
       "  </tbody>\n",
       "</table>\n",
       "</div>"
      ],
      "text/plain": [
       "   patient_id  report_no  y_report  histopathology_id  val_fold      dataset\n",
       "0          13          1  Positive                658      10.0  development\n",
       "1          14          1  Positive                189       7.0  development\n",
       "2          28          1  Negative                529       8.0  development\n",
       "3          28          2  Positive                325       8.0  development\n",
       "4          28          3  Negative                559       8.0  development"
      ]
     },
     "execution_count": 3,
     "metadata": {},
     "output_type": "execute_result"
    }
   ],
   "source": [
    "# Load the csv file with report metadata\n",
    "df = pd.read_csv(path + \"chifir_metadata.csv\")\n",
    "df.head()"
   ]
  },
  {
   "cell_type": "code",
   "execution_count": 4,
   "id": "c8d9c048",
   "metadata": {},
   "outputs": [],
   "source": [
    "# Separate the test set to prevent data leakage\n",
    "df_test = df[df.dataset=='test'].copy()\n",
    "df.drop(index=df_test.index, inplace=True)\n",
    "df.reset_index(drop=True, inplace=True)"
   ]
  },
  {
   "cell_type": "code",
   "execution_count": 5,
   "id": "109cff99",
   "metadata": {},
   "outputs": [],
   "source": [
    "# Add free-text reports to the dataframe\n",
    "df['report'] = df.apply(utils.read_report, path=path + \"reports/\", axis=1)"
   ]
  },
  {
   "cell_type": "code",
   "execution_count": 6,
   "id": "933f6719",
   "metadata": {},
   "outputs": [
    {
     "data": {
      "text/html": [
       "<div>\n",
       "<style scoped>\n",
       "    .dataframe tbody tr th:only-of-type {\n",
       "        vertical-align: middle;\n",
       "    }\n",
       "\n",
       "    .dataframe tbody tr th {\n",
       "        vertical-align: top;\n",
       "    }\n",
       "\n",
       "    .dataframe thead th {\n",
       "        text-align: right;\n",
       "    }\n",
       "</style>\n",
       "<table border=\"1\" class=\"dataframe\">\n",
       "  <thead>\n",
       "    <tr style=\"text-align: right;\">\n",
       "      <th></th>\n",
       "      <th>histopathology_id</th>\n",
       "      <th>patient_id</th>\n",
       "      <th>report_no</th>\n",
       "      <th>concept_id</th>\n",
       "      <th>concept</th>\n",
       "      <th>phrase</th>\n",
       "      <th>start_char</th>\n",
       "      <th>end_char</th>\n",
       "    </tr>\n",
       "  </thead>\n",
       "  <tbody>\n",
       "    <tr>\n",
       "      <th>0</th>\n",
       "      <td>658</td>\n",
       "      <td>13</td>\n",
       "      <td>1</td>\n",
       "      <td>T2</td>\n",
       "      <td>Invasiveness</td>\n",
       "      <td>intravascular spaces</td>\n",
       "      <td>669</td>\n",
       "      <td>689</td>\n",
       "    </tr>\n",
       "    <tr>\n",
       "      <th>1</th>\n",
       "      <td>658</td>\n",
       "      <td>13</td>\n",
       "      <td>1</td>\n",
       "      <td>T4</td>\n",
       "      <td>Stain</td>\n",
       "      <td>PAS</td>\n",
       "      <td>715</td>\n",
       "      <td>718</td>\n",
       "    </tr>\n",
       "    <tr>\n",
       "      <th>2</th>\n",
       "      <td>658</td>\n",
       "      <td>13</td>\n",
       "      <td>1</td>\n",
       "      <td>T5</td>\n",
       "      <td>Stain</td>\n",
       "      <td>GMS</td>\n",
       "      <td>723</td>\n",
       "      <td>726</td>\n",
       "    </tr>\n",
       "    <tr>\n",
       "      <th>3</th>\n",
       "      <td>658</td>\n",
       "      <td>13</td>\n",
       "      <td>1</td>\n",
       "      <td>T9</td>\n",
       "      <td>positive</td>\n",
       "      <td>positive</td>\n",
       "      <td>700</td>\n",
       "      <td>708</td>\n",
       "    </tr>\n",
       "    <tr>\n",
       "      <th>4</th>\n",
       "      <td>658</td>\n",
       "      <td>13</td>\n",
       "      <td>1</td>\n",
       "      <td>T3</td>\n",
       "      <td>FungalDescriptor</td>\n",
       "      <td>necrotic fungi</td>\n",
       "      <td>651</td>\n",
       "      <td>665</td>\n",
       "    </tr>\n",
       "  </tbody>\n",
       "</table>\n",
       "</div>"
      ],
      "text/plain": [
       "  histopathology_id patient_id report_no concept_id           concept  \\\n",
       "0               658         13         1         T2      Invasiveness   \n",
       "1               658         13         1         T4             Stain   \n",
       "2               658         13         1         T5             Stain   \n",
       "3               658         13         1         T9          positive   \n",
       "4               658         13         1         T3  FungalDescriptor   \n",
       "\n",
       "                 phrase start_char end_char  \n",
       "0  intravascular spaces        669      689  \n",
       "1                   PAS        715      718  \n",
       "2                   GMS        723      726  \n",
       "3              positive        700      708  \n",
       "4        necrotic fungi        651      665  "
      ]
     },
     "execution_count": 6,
     "metadata": {},
     "output_type": "execute_result"
    }
   ],
   "source": [
    "# Parse annotation files and load gold standard annotations\n",
    "concepts = utils.read_annotations(df, path=path + \"annotations/\")\n",
    "concepts.head()"
   ]
  },
  {
   "cell_type": "markdown",
   "id": "8fd95e87",
   "metadata": {},
   "source": [
    "___\n",
    "# Prepare gold standard annotations and reports\n",
    "### Clean text"
   ]
  },
  {
   "cell_type": "code",
   "execution_count": 7,
   "id": "6610e1f4",
   "metadata": {},
   "outputs": [],
   "source": [
    "df['clean_text'] = df.report.apply(dict_utils.clean_text)"
   ]
  },
  {
   "cell_type": "markdown",
   "id": "864a5469",
   "metadata": {},
   "source": [
    "### Load tokenizer"
   ]
  },
  {
   "cell_type": "code",
   "execution_count": 8,
   "id": "b8ac1302",
   "metadata": {},
   "outputs": [],
   "source": [
    "# Load spacy model with disabled NER\n",
    "nlp = spacy.load(\"en_core_web_sm\", exclude=['ner'])"
   ]
  },
  {
   "cell_type": "markdown",
   "id": "bdd62566",
   "metadata": {},
   "source": [
    "### Learn dictionary of concepts"
   ]
  },
  {
   "cell_type": "code",
   "execution_count": 9,
   "id": "367d312c",
   "metadata": {},
   "outputs": [],
   "source": [
    "X = df.clean_text\n",
    "y = df.y_report\n",
    "groups = df.patient_id\n",
    "\n",
    "cv = utils.get_cv_strategy()\n",
    "\n",
    "for train_idx, val_idx in cv.split(X, y, groups):\n",
    "    \n",
    "    # Create vocabulary\n",
    "    vocab = dict_utils.create_vocab(df.loc[train_idx].histopathology_id, concepts, expand=True)\n",
    "    \n",
    "    # Match words in text to detect concepts\n",
    "    df.loc[val_idx, 'doc'] = dict_utils.detect_concepts(df.loc[val_idx, 'clean_text'], nlp, vocab)"
   ]
  },
  {
   "cell_type": "markdown",
   "id": "e41a54e2",
   "metadata": {},
   "source": [
    "### Adjust positions of gold standard annotations"
   ]
  },
  {
   "cell_type": "code",
   "execution_count": 10,
   "id": "a5d447a4",
   "metadata": {},
   "outputs": [],
   "source": [
    "# Map character positions before and after text pre-processing\n",
    "df['pos_mapping'] = df.report.apply(dict_utils.clean_text, mode='map positions')\n",
    "\n",
    "# Add information about position changes\n",
    "concepts = concepts.merge(df[['histopathology_id', 'pos_mapping']], on='histopathology_id')\n",
    "\n",
    "# Adjust character positions\n",
    "concepts[['start_char', 'end_char']] = pd.DataFrame(concepts.apply(dict_utils.adjust_position, axis=1).tolist(), \n",
    "                                                    index=concepts.index)"
   ]
  },
  {
   "cell_type": "markdown",
   "id": "fabf6a90",
   "metadata": {},
   "source": [
    "### Evaluate predicitons"
   ]
  },
  {
   "cell_type": "code",
   "execution_count": 11,
   "id": "c6a7e6f3",
   "metadata": {},
   "outputs": [
    {
     "name": "stdout",
     "output_type": "stream",
     "text": [
      "                  mean   std\n",
      "concept                     \n",
      "ClinicalQuery     0.98  0.08\n",
      "FungalDescriptor  0.73  0.10\n",
      "Fungus            0.89  0.09\n",
      "Invasiveness      0.27  0.41\n",
      "Stain             0.95  0.06\n",
      "SampleType        0.14  0.03\n",
      "positive          0.04  0.03\n",
      "equivocal         0.01  0.01\n",
      "negative          0.11  0.03\n",
      "                  mean   std\n",
      "concept                     \n",
      "ClinicalQuery     0.49  0.22\n",
      "FungalDescriptor  0.93  0.05\n",
      "Fungus            0.93  0.14\n",
      "Invasiveness      0.35  0.42\n",
      "Stain             0.96  0.07\n",
      "SampleType        0.85  0.13\n",
      "positive          0.73  0.30\n",
      "equivocal         0.50  0.50\n",
      "negative          0.97  0.07\n"
     ]
    }
   ],
   "source": [
    "# Transform predictions to a dataframe of concepts\n",
    "detected_concepts = dict_utils.doc2concepts(df)\n",
    "\n",
    "# Get feature names\n",
    "feature_names = utils.get_feature_names('concepts')\n",
    "\n",
    "# Calculate precision and recall\n",
    "eval_utils.evaluate_ner_cv(df[['histopathology_id', 'val_fold']], \n",
    "                           concepts, detected_concepts, feature_names)"
   ]
  },
  {
   "cell_type": "markdown",
   "id": "bc4ff40d",
   "metadata": {},
   "source": [
    "___\n",
    "# Test\n",
    "### Learn vocabulary from the full development set"
   ]
  },
  {
   "cell_type": "code",
   "execution_count": 12,
   "id": "6863631b",
   "metadata": {},
   "outputs": [],
   "source": [
    "vocab = dict_utils.create_vocab(df.histopathology_id, concepts, expand=True)"
   ]
  },
  {
   "cell_type": "markdown",
   "id": "3c869af4",
   "metadata": {},
   "source": [
    "### Load and prepare test data, run the model"
   ]
  },
  {
   "cell_type": "code",
   "execution_count": 13,
   "id": "30d5da8d",
   "metadata": {},
   "outputs": [],
   "source": [
    "# Add free-text reports to the dataframe\n",
    "df_test['report'] = df_test.apply(utils.read_report, path=path + \"reports/\", axis=1)\n",
    "\n",
    "# Clean data\n",
    "df_test['clean_text'] = df_test.report.apply(dict_utils.clean_text)\n",
    "\n",
    "# Match words in text to detect concepts\n",
    "df_test['doc'] = dict_utils.detect_concepts(df_test.clean_text, nlp, vocab)"
   ]
  },
  {
   "cell_type": "markdown",
   "id": "9d091ab6",
   "metadata": {},
   "source": [
    "### Load and prepare gold standard concepts, evaluate predicitions"
   ]
  },
  {
   "cell_type": "code",
   "execution_count": 14,
   "id": "b6ed7718",
   "metadata": {},
   "outputs": [
    {
     "name": "stdout",
     "output_type": "stream",
     "text": [
      "concept\n",
      "ClinicalQuery       0.83\n",
      "FungalDescriptor    0.80\n",
      "Fungus              0.94\n",
      "Invasiveness        0.33\n",
      "Stain               0.94\n",
      "SampleType          0.13\n",
      "positive            0.04\n",
      "equivocal           0.00\n",
      "negative            0.10\n",
      "dtype: float64\n",
      "\n",
      "concept\n",
      "ClinicalQuery       0.71\n",
      "FungalDescriptor    0.98\n",
      "Fungus              0.94\n",
      "Invasiveness        0.33\n",
      "Stain               0.97\n",
      "SampleType          0.72\n",
      "positive            0.80\n",
      "equivocal            NaN\n",
      "negative            1.00\n",
      "dtype: float64\n"
     ]
    }
   ],
   "source": [
    "# Parse annotation files and load gold standard annotations\n",
    "concepts = utils.read_annotations(df_test, path=path + \"annotations/\")\n",
    "\n",
    "# Map character positions before and after text pre-processing\n",
    "df_test['pos_mapping'] = df_test.report.apply(dict_utils.clean_text, mode='map positions')\n",
    "\n",
    "# Add information about position changes\n",
    "concepts = concepts.merge(df_test[['histopathology_id', 'pos_mapping']], on='histopathology_id')\n",
    "\n",
    "# Adjust character positions\n",
    "concepts[['start_char', 'end_char']] = pd.DataFrame(concepts.apply(dict_utils.adjust_position, axis=1).tolist(), \n",
    "                                                    index=concepts.index)\n",
    "\n",
    "\n",
    "# Transform predictions to a dataframe of concepts\n",
    "detected_concepts = dict_utils.doc2concepts(df_test)\n",
    "\n",
    "# Get feature names\n",
    "feature_names = utils.get_feature_names('concepts')\n",
    "\n",
    "\n",
    "# Calculate precision and recall\n",
    "eval_utils.evaluate_ner(df_test.histopathology_id, \n",
    "                        concepts, detected_concepts, feature_names)"
   ]
  }
 ],
 "metadata": {
  "kernelspec": {
   "display_name": "Python 3 (ipykernel)",
   "language": "python",
   "name": "python3"
  },
  "language_info": {
   "codemirror_mode": {
    "name": "ipython",
    "version": 3
   },
   "file_extension": ".py",
   "mimetype": "text/x-python",
   "name": "python",
   "nbconvert_exporter": "python",
   "pygments_lexer": "ipython3",
   "version": "3.10.13"
  }
 },
 "nbformat": 4,
 "nbformat_minor": 5
}
