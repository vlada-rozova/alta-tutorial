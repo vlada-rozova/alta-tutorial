{
 "cells": [
  {
   "cell_type": "code",
   "execution_count": 1,
   "id": "a9d49cc0",
   "metadata": {},
   "outputs": [],
   "source": [
    "import numpy as np\n",
    "import pandas as pd\n",
    "import utils"
   ]
  },
  {
   "cell_type": "markdown",
   "id": "9eaf81e4",
   "metadata": {},
   "source": [
    "___\n",
    "# Get to know the CHIFIR dataset\n",
    "\n",
    "The corpus of Cytology and Histopathology Invasive Fungal Infection Reports (CHIFIR) is available at [PhysioNet](https://physionet.org/content/corpus-fungal-infections/1.0.0/). Since these are medical reports and can contain sensitive information, the dataset can only be accessed by credentialed users who have signed the Data Use Agreement.\n",
    "\n",
    "\n",
    "**Background**\n",
    "\n",
    "Cytology and histopathology reports are a common type of clinical documentation. These are pathologist-produced free-text reports outlining the macroscopic and microscopic structure of a specimen. Depending on the sample and what it contains, a report might describe its overall structure, which types cells or tissue can be seen, and any pathological observations. In other words, the information contained in a report can vary a lot and directly depends on the patient's medical condition.\n",
    "\n",
    "In case of CHIFIR, the corpus was created to support the development of an automated tool for the detection of invasive fungal infection (IFI). IFIs are rare but serious infections most commonly affecting immunocompromised and critically ill patients. Traditionally, surveillance of IFI is a laboriuos process which requires a physician to perform a detailed review of patient medical history. Histopathology reports play a key role as they provide, albeit not with 100% certainty, evidence for the presence or absence of IFI.  \n",
    "\n",
    "\n",
    "**Aim**\n",
    "\n",
    "As mentioned above, the final goal is to build a tool that can accurately detect IFI based on a patient's medical history. Part of this is to be able to tell if any associated histopathology reports contain any evidence for IFI. This can be done in two steps:\n",
    "- Extract any relevant information from a report, e.g., phrases describing fungal organisms.\n",
    "- Based on this information, classify a report into positive or negative for IFI.\n",
    "\n",
    "Since the reports are free-text, we might need to use text analytics and natural language processing (NLP) methods. But first let's take a look at the data..."
   ]
  },
  {
   "cell_type": "markdown",
   "id": "49f35d5a",
   "metadata": {},
   "source": [
    "___\n",
    "# Explore the CHIFIR dataset\n",
    "### Metadata"
   ]
  },
  {
   "cell_type": "code",
   "execution_count": 2,
   "id": "f70724db",
   "metadata": {},
   "outputs": [
    {
     "name": "stdout",
     "output_type": "stream",
     "text": [
      "(283, 6)\n"
     ]
    },
    {
     "data": {
      "text/html": [
       "<div>\n",
       "<style scoped>\n",
       "    .dataframe tbody tr th:only-of-type {\n",
       "        vertical-align: middle;\n",
       "    }\n",
       "\n",
       "    .dataframe tbody tr th {\n",
       "        vertical-align: top;\n",
       "    }\n",
       "\n",
       "    .dataframe thead th {\n",
       "        text-align: right;\n",
       "    }\n",
       "</style>\n",
       "<table border=\"1\" class=\"dataframe\">\n",
       "  <thead>\n",
       "    <tr style=\"text-align: right;\">\n",
       "      <th></th>\n",
       "      <th>histopathology_id</th>\n",
       "      <th>patient_id</th>\n",
       "      <th>report_no</th>\n",
       "      <th>y_report</th>\n",
       "      <th>dataset</th>\n",
       "      <th>val_fold</th>\n",
       "    </tr>\n",
       "  </thead>\n",
       "  <tbody>\n",
       "    <tr>\n",
       "      <th>0</th>\n",
       "      <td>658</td>\n",
       "      <td>13</td>\n",
       "      <td>1</td>\n",
       "      <td>Positive</td>\n",
       "      <td>development</td>\n",
       "      <td>10.0</td>\n",
       "    </tr>\n",
       "    <tr>\n",
       "      <th>1</th>\n",
       "      <td>189</td>\n",
       "      <td>14</td>\n",
       "      <td>1</td>\n",
       "      <td>Positive</td>\n",
       "      <td>development</td>\n",
       "      <td>7.0</td>\n",
       "    </tr>\n",
       "    <tr>\n",
       "      <th>2</th>\n",
       "      <td>529</td>\n",
       "      <td>28</td>\n",
       "      <td>1</td>\n",
       "      <td>Negative</td>\n",
       "      <td>development</td>\n",
       "      <td>8.0</td>\n",
       "    </tr>\n",
       "    <tr>\n",
       "      <th>3</th>\n",
       "      <td>325</td>\n",
       "      <td>28</td>\n",
       "      <td>2</td>\n",
       "      <td>Positive</td>\n",
       "      <td>development</td>\n",
       "      <td>8.0</td>\n",
       "    </tr>\n",
       "    <tr>\n",
       "      <th>4</th>\n",
       "      <td>559</td>\n",
       "      <td>28</td>\n",
       "      <td>3</td>\n",
       "      <td>Negative</td>\n",
       "      <td>development</td>\n",
       "      <td>8.0</td>\n",
       "    </tr>\n",
       "  </tbody>\n",
       "</table>\n",
       "</div>"
      ],
      "text/plain": [
       "   histopathology_id  patient_id  report_no  y_report      dataset  val_fold\n",
       "0                658          13          1  Positive  development      10.0\n",
       "1                189          14          1  Positive  development       7.0\n",
       "2                529          28          1  Negative  development       8.0\n",
       "3                325          28          2  Positive  development       8.0\n",
       "4                559          28          3  Negative  development       8.0"
      ]
     },
     "execution_count": 2,
     "metadata": {},
     "output_type": "execute_result"
    }
   ],
   "source": [
    "# Load a csv file with report metadata\n",
    "df = pd.read_csv(\"../../../Data/CHIFIR/chifir_metadata.csv\")\n",
    "print(df.shape)\n",
    "df.head()"
   ]
  },
  {
   "cell_type": "code",
   "execution_count": 3,
   "id": "152e5253",
   "metadata": {},
   "outputs": [
    {
     "name": "stdout",
     "output_type": "stream",
     "text": [
      "<class 'pandas.core.frame.DataFrame'>\n",
      "RangeIndex: 283 entries, 0 to 282\n",
      "Data columns (total 6 columns):\n",
      " #   Column             Non-Null Count  Dtype  \n",
      "---  ------             --------------  -----  \n",
      " 0   histopathology_id  283 non-null    int64  \n",
      " 1   patient_id         283 non-null    int64  \n",
      " 2   report_no          283 non-null    int64  \n",
      " 3   y_report           283 non-null    object \n",
      " 4   dataset            283 non-null    object \n",
      " 5   val_fold           231 non-null    float64\n",
      "dtypes: float64(1), int64(3), object(2)\n",
      "memory usage: 13.4+ KB\n"
     ]
    }
   ],
   "source": [
    "# What does this file contain?\n",
    "df.info()"
   ]
  },
  {
   "cell_type": "code",
   "execution_count": 4,
   "id": "324a94f4",
   "metadata": {},
   "outputs": [
    {
     "data": {
      "text/plain": [
       "201"
      ]
     },
     "execution_count": 4,
     "metadata": {},
     "output_type": "execute_result"
    }
   ],
   "source": [
    "# Number of patients\n",
    "df.patient_id.nunique()"
   ]
  },
  {
   "cell_type": "code",
   "execution_count": 5,
   "id": "3016102f",
   "metadata": {},
   "outputs": [
    {
     "data": {
      "text/plain": [
       "min    1\n",
       "max    6\n",
       "dtype: int64"
      ]
     },
     "execution_count": 5,
     "metadata": {},
     "output_type": "execute_result"
    }
   ],
   "source": [
    "# Number of reports per patient\n",
    "df.groupby('patient_id').size().aggregate([min, max])"
   ]
  },
  {
   "cell_type": "code",
   "execution_count": 6,
   "id": "c6919fbc",
   "metadata": {},
   "outputs": [
    {
     "data": {
      "text/plain": [
       "Negative    243\n",
       "Positive     40\n",
       "Name: y_report, dtype: int64"
      ]
     },
     "execution_count": 6,
     "metadata": {},
     "output_type": "execute_result"
    }
   ],
   "source": [
    "# Report-level annotations\n",
    "df.y_report.value_counts()"
   ]
  },
  {
   "cell_type": "code",
   "execution_count": 7,
   "id": "3c636ad5",
   "metadata": {},
   "outputs": [
    {
     "data": {
      "text/plain": [
       "Negative    0.86\n",
       "Positive    0.14\n",
       "Name: y_report, dtype: float64"
      ]
     },
     "execution_count": 7,
     "metadata": {},
     "output_type": "execute_result"
    }
   ],
   "source": [
    "# Proportion of positive reports\n",
    "df.y_report.value_counts(normalize=True).round(2)"
   ]
  },
  {
   "cell_type": "code",
   "execution_count": 8,
   "id": "d645dd27",
   "metadata": {},
   "outputs": [
    {
     "data": {
      "text/plain": [
       "development    231\n",
       "test            52\n",
       "Name: dataset, dtype: int64"
      ]
     },
     "execution_count": 8,
     "metadata": {},
     "output_type": "execute_result"
    }
   ],
   "source": [
    "# Recommended data split: development and test sets\n",
    "df.dataset.value_counts()"
   ]
  },
  {
   "cell_type": "code",
   "execution_count": 9,
   "id": "99349336",
   "metadata": {},
   "outputs": [
    {
     "data": {
      "text/plain": [
       "1.0     21\n",
       "2.0     19\n",
       "3.0     19\n",
       "4.0     30\n",
       "5.0     19\n",
       "6.0     26\n",
       "7.0     29\n",
       "8.0     29\n",
       "9.0     18\n",
       "10.0    21\n",
       "Name: val_fold, dtype: int64"
      ]
     },
     "execution_count": 9,
     "metadata": {},
     "output_type": "execute_result"
    }
   ],
   "source": [
    "# Recommended data split: 10-fold cross-validation\n",
    "df[df.dataset=='development'].val_fold.value_counts().sort_index()"
   ]
  },
  {
   "cell_type": "markdown",
   "id": "11991f24",
   "metadata": {},
   "source": [
    "### Reports\n",
    "\n",
    "### Annotated concepts\n",
    "\n",
    "### Considerations when doing NER\n",
    "- Small dataset\n",
    "- High lexical diversity\n",
    "- Very specific/narrow subject\n",
    "\n",
    "___\n",
    "# NER\n",
    "\n",
    "### Dictionary-based\n",
    "- How does it work? What to expect?\n",
    "- Results\n",
    "- Pros & Cons\n",
    "\n",
    "### CRF model\n",
    "- How does it work? What to expect?\n",
    "- Results\n",
    "- Pros & Cons\n",
    "\n",
    "### Transformer-based\n",
    "- How does it work? What to expect?\n",
    "- Results\n",
    "- Pros & Cons"
   ]
  },
  {
   "cell_type": "code",
   "execution_count": null,
   "id": "8f2027b2",
   "metadata": {},
   "outputs": [],
   "source": []
  }
 ],
 "metadata": {
  "kernelspec": {
   "display_name": "Python 3 (ipykernel)",
   "language": "python",
   "name": "python3"
  },
  "language_info": {
   "codemirror_mode": {
    "name": "ipython",
    "version": 3
   },
   "file_extension": ".py",
   "mimetype": "text/x-python",
   "name": "python",
   "nbconvert_exporter": "python",
   "pygments_lexer": "ipython3",
   "version": "3.8.10"
  }
 },
 "nbformat": 4,
 "nbformat_minor": 5
}
