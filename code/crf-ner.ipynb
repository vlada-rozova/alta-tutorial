{
 "cells": [
  {
   "cell_type": "code",
   "execution_count": 1,
   "id": "0ea42d3f",
   "metadata": {},
   "outputs": [],
   "source": [
    "import numpy as np\n",
    "import pandas as pd\n",
    "import re\n",
    "import spacy\n",
    "\n",
    "from sklearn.model_selection import StratifiedGroupKFold\n",
    "from sklearn_crfsuite import CRF\n",
    "\n",
    "from utils import *\n",
    "from evalutils import *\n",
    "\n",
    "import warnings\n",
    "warnings.filterwarnings(\"ignore\")"
   ]
  },
  {
   "cell_type": "markdown",
   "id": "57fee221",
   "metadata": {},
   "source": [
    "___\n",
    "# Gold standard annotations\n",
    "### Load gold standard concepts"
   ]
  },
  {
   "cell_type": "code",
   "execution_count": 2,
   "id": "2cffdcbe",
   "metadata": {},
   "outputs": [
    {
     "name": "stdout",
     "output_type": "stream",
     "text": [
      "(1155, 7)\n"
     ]
    },
    {
     "data": {
      "text/html": [
       "<div>\n",
       "<style scoped>\n",
       "    .dataframe tbody tr th:only-of-type {\n",
       "        vertical-align: middle;\n",
       "    }\n",
       "\n",
       "    .dataframe tbody tr th {\n",
       "        vertical-align: top;\n",
       "    }\n",
       "\n",
       "    .dataframe thead th {\n",
       "        text-align: right;\n",
       "    }\n",
       "</style>\n",
       "<table border=\"1\" class=\"dataframe\">\n",
       "  <thead>\n",
       "    <tr style=\"text-align: right;\">\n",
       "      <th></th>\n",
       "      <th>histopathology_id</th>\n",
       "      <th>patient_id</th>\n",
       "      <th>report_no</th>\n",
       "      <th>concept</th>\n",
       "      <th>phrase</th>\n",
       "      <th>start_char</th>\n",
       "      <th>end_char</th>\n",
       "    </tr>\n",
       "  </thead>\n",
       "  <tbody>\n",
       "    <tr>\n",
       "      <th>0</th>\n",
       "      <td>658</td>\n",
       "      <td>13</td>\n",
       "      <td>1</td>\n",
       "      <td>Invasiveness</td>\n",
       "      <td>intravascular spaces</td>\n",
       "      <td>669</td>\n",
       "      <td>689</td>\n",
       "    </tr>\n",
       "    <tr>\n",
       "      <th>1</th>\n",
       "      <td>658</td>\n",
       "      <td>13</td>\n",
       "      <td>1</td>\n",
       "      <td>Stain</td>\n",
       "      <td>PAS</td>\n",
       "      <td>715</td>\n",
       "      <td>718</td>\n",
       "    </tr>\n",
       "    <tr>\n",
       "      <th>2</th>\n",
       "      <td>658</td>\n",
       "      <td>13</td>\n",
       "      <td>1</td>\n",
       "      <td>Stain</td>\n",
       "      <td>GMS</td>\n",
       "      <td>723</td>\n",
       "      <td>726</td>\n",
       "    </tr>\n",
       "    <tr>\n",
       "      <th>3</th>\n",
       "      <td>658</td>\n",
       "      <td>13</td>\n",
       "      <td>1</td>\n",
       "      <td>positive</td>\n",
       "      <td>positive</td>\n",
       "      <td>700</td>\n",
       "      <td>708</td>\n",
       "    </tr>\n",
       "    <tr>\n",
       "      <th>4</th>\n",
       "      <td>658</td>\n",
       "      <td>13</td>\n",
       "      <td>1</td>\n",
       "      <td>FungalDescriptor</td>\n",
       "      <td>necrotic fungi</td>\n",
       "      <td>651</td>\n",
       "      <td>665</td>\n",
       "    </tr>\n",
       "  </tbody>\n",
       "</table>\n",
       "</div>"
      ],
      "text/plain": [
       "   histopathology_id  patient_id  report_no           concept  \\\n",
       "0                658          13          1      Invasiveness   \n",
       "1                658          13          1             Stain   \n",
       "2                658          13          1             Stain   \n",
       "3                658          13          1          positive   \n",
       "4                658          13          1  FungalDescriptor   \n",
       "\n",
       "                 phrase  start_char  end_char  \n",
       "0  intravascular spaces         669       689  \n",
       "1                   PAS         715       718  \n",
       "2                   GMS         723       726  \n",
       "3              positive         700       708  \n",
       "4        necrotic fungi         651       665  "
      ]
     },
     "execution_count": 2,
     "metadata": {},
     "output_type": "execute_result"
    }
   ],
   "source": [
    "# Load gold standard concepts\n",
    "true_concepts = pd.read_csv(\"../datasets/gold_concepts.csv\")\n",
    "true_concepts.drop(['concept_id','preceding', 'following'], axis=1, inplace=True)\n",
    "print(true_concepts.shape)\n",
    "true_concepts.head()"
   ]
  },
  {
   "cell_type": "markdown",
   "id": "8fd95e87",
   "metadata": {},
   "source": [
    "### Load tokeniser"
   ]
  },
  {
   "cell_type": "code",
   "execution_count": 3,
   "id": "69943485",
   "metadata": {},
   "outputs": [],
   "source": [
    "# Load spacy model with disable NER\n",
    "nlp = spacy.load(\"en_core_web_sm\", exclude=['ner'])\n",
    "\n",
    "# Apply tokeniser to gold standard annotations\n",
    "true_concepts['doc'] = true_concepts.phrase.apply(nlp.tokenizer)"
   ]
  },
  {
   "cell_type": "markdown",
   "id": "5c6e7075",
   "metadata": {},
   "source": [
    "### Assign BIOES tags"
   ]
  },
  {
   "cell_type": "code",
   "execution_count": 4,
   "id": "69eb992a",
   "metadata": {},
   "outputs": [],
   "source": [
    "# Create dataframe to store concepts with BIOES tags\n",
    "true_concepts_bioes = pd.DataFrame(columns=true_concepts.columns)\n",
    "\n",
    "# Single-token entities\n",
    "true_concepts_bioes = true_concepts[true_concepts.doc.apply(len) == 1].copy()\n",
    "\n",
    "# Add the \"S\" tag\n",
    "true_concepts_bioes.concept = true_concepts_bioes.concept.apply(lambda x: \"S-\" + x)\n",
    "\n",
    "# Remove doc\n",
    "true_concepts_bioes.drop('doc', axis=1, inplace=True)"
   ]
  },
  {
   "cell_type": "code",
   "execution_count": 5,
   "id": "34f14640",
   "metadata": {},
   "outputs": [
    {
     "data": {
      "text/plain": [
       "(1649, 7)"
      ]
     },
     "execution_count": 5,
     "metadata": {},
     "output_type": "execute_result"
    }
   ],
   "source": [
    "# Multi-token entities\n",
    "for _,x in true_concepts[true_concepts.doc.apply(len) > 1].iterrows():\n",
    "    \n",
    "    # Loop over tokens\n",
    "    for token in x.doc:\n",
    "        \n",
    "        # Skip if whitespace\n",
    "        if token.is_space:\n",
    "            continue\n",
    "        \n",
    "        # If the first token tag with \"B-\"\n",
    "        if token.i==0:\n",
    "            concept = \"B-\" + x.concept\n",
    "            \n",
    "        # If the last token tag with \"E-\"\n",
    "        elif token.i+1==len(x.doc):\n",
    "            concept = \"E-\" + x.concept\n",
    "            \n",
    "        # If in the middle tag with \"I-\"\n",
    "        else:\n",
    "            concept = \"I-\" + x.concept\n",
    "\n",
    "        # Adjust start char position\n",
    "        start_char = x.start_char + token.idx \n",
    "\n",
    "        tmp = pd.DataFrame({\n",
    "            'histopathology_id': x.histopathology_id,\n",
    "            'patient_id': x.patient_id, \n",
    "            'report_no': x.report_no, \n",
    "            'concept': concept, \n",
    "            'phrase': token,\n",
    "            'start_char': start_char,\n",
    "            'end_char': start_char + len(token),\n",
    "        }, index=[0])\n",
    "\n",
    "        # Add to the table of concepts\n",
    "        true_concepts_bioes = pd.concat([true_concepts_bioes, tmp], axis=0, ignore_index=True) \n",
    "        \n",
    "# Sort BIOES tagged concepts\n",
    "true_concepts_bioes.sort_values(by=['histopathology_id', 'start_char'], inplace=True)\n",
    "true_concepts_bioes.shape"
   ]
  },
  {
   "cell_type": "markdown",
   "id": "a3bd2b12",
   "metadata": {},
   "source": [
    "___\n",
    "# Prepare data\n",
    "### Load reports"
   ]
  },
  {
   "cell_type": "code",
   "execution_count": 6,
   "id": "201da83c",
   "metadata": {},
   "outputs": [
    {
     "name": "stdout",
     "output_type": "stream",
     "text": [
      "(231, 8)\n"
     ]
    },
    {
     "data": {
      "text/html": [
       "<div>\n",
       "<style scoped>\n",
       "    .dataframe tbody tr th:only-of-type {\n",
       "        vertical-align: middle;\n",
       "    }\n",
       "\n",
       "    .dataframe tbody tr th {\n",
       "        vertical-align: top;\n",
       "    }\n",
       "\n",
       "    .dataframe thead th {\n",
       "        text-align: right;\n",
       "    }\n",
       "</style>\n",
       "<table border=\"1\" class=\"dataframe\">\n",
       "  <thead>\n",
       "    <tr style=\"text-align: right;\">\n",
       "      <th></th>\n",
       "      <th>patient_id</th>\n",
       "      <th>report_no</th>\n",
       "      <th>y_report</th>\n",
       "      <th>histopathology_id</th>\n",
       "      <th>val_fold</th>\n",
       "      <th>dataset</th>\n",
       "      <th>order_results</th>\n",
       "      <th>y</th>\n",
       "    </tr>\n",
       "  </thead>\n",
       "  <tbody>\n",
       "    <tr>\n",
       "      <th>0</th>\n",
       "      <td>13</td>\n",
       "      <td>1</td>\n",
       "      <td>Positive</td>\n",
       "      <td>658</td>\n",
       "      <td>10.0</td>\n",
       "      <td>development</td>\n",
       "      <td>\"XXXXXX M XXXXXXXXXX  Report (XXXXXXXX)\\nCLINI...</td>\n",
       "      <td>1</td>\n",
       "    </tr>\n",
       "    <tr>\n",
       "      <th>1</th>\n",
       "      <td>14</td>\n",
       "      <td>1</td>\n",
       "      <td>Positive</td>\n",
       "      <td>189</td>\n",
       "      <td>7.0</td>\n",
       "      <td>development</td>\n",
       "      <td>\"URNO     XXXXXXXX \\nLab No    XXXXXXXXX      ...</td>\n",
       "      <td>1</td>\n",
       "    </tr>\n",
       "    <tr>\n",
       "      <th>2</th>\n",
       "      <td>28</td>\n",
       "      <td>1</td>\n",
       "      <td>Negative</td>\n",
       "      <td>529</td>\n",
       "      <td>8.0</td>\n",
       "      <td>development</td>\n",
       "      <td>\"URNO         XXXXXXXXX Lab No    XXXXXXXXX   ...</td>\n",
       "      <td>0</td>\n",
       "    </tr>\n",
       "    <tr>\n",
       "      <th>3</th>\n",
       "      <td>28</td>\n",
       "      <td>2</td>\n",
       "      <td>Positive</td>\n",
       "      <td>325</td>\n",
       "      <td>8.0</td>\n",
       "      <td>development</td>\n",
       "      <td>\"URNO     XXXXXXXXX \\nLab No    XXXXXXXXX     ...</td>\n",
       "      <td>1</td>\n",
       "    </tr>\n",
       "    <tr>\n",
       "      <th>4</th>\n",
       "      <td>28</td>\n",
       "      <td>3</td>\n",
       "      <td>Negative</td>\n",
       "      <td>559</td>\n",
       "      <td>8.0</td>\n",
       "      <td>development</td>\n",
       "      <td>\"URNO     XXXXXXXXX \\nLab No    XXXXXXXXX     ...</td>\n",
       "      <td>0</td>\n",
       "    </tr>\n",
       "  </tbody>\n",
       "</table>\n",
       "</div>"
      ],
      "text/plain": [
       "   patient_id  report_no  y_report  histopathology_id  val_fold      dataset  \\\n",
       "0          13          1  Positive                658      10.0  development   \n",
       "1          14          1  Positive                189       7.0  development   \n",
       "2          28          1  Negative                529       8.0  development   \n",
       "3          28          2  Positive                325       8.0  development   \n",
       "4          28          3  Negative                559       8.0  development   \n",
       "\n",
       "                                       order_results  y  \n",
       "0  \"XXXXXX M XXXXXXXXXX  Report (XXXXXXXX)\\nCLINI...  1  \n",
       "1  \"URNO     XXXXXXXX \\nLab No    XXXXXXXXX      ...  1  \n",
       "2  \"URNO         XXXXXXXXX Lab No    XXXXXXXXX   ...  0  \n",
       "3  \"URNO     XXXXXXXXX \\nLab No    XXXXXXXXX     ...  1  \n",
       "4  \"URNO     XXXXXXXXX \\nLab No    XXXXXXXXX     ...  0  "
      ]
     },
     "execution_count": 6,
     "metadata": {},
     "output_type": "execute_result"
    }
   ],
   "source": [
    "# Load the development set of reports\n",
    "df = pd.read_csv(\"../datasets/reports_dev.csv\")\n",
    "print(df.shape)\n",
    "df.head()"
   ]
  },
  {
   "cell_type": "markdown",
   "id": "b0040de6",
   "metadata": {},
   "source": [
    "### Tokenize"
   ]
  },
  {
   "cell_type": "code",
   "execution_count": 7,
   "id": "df5fd468",
   "metadata": {},
   "outputs": [
    {
     "data": {
      "text/plain": [
       "['tok2vec', 'tagger', 'parser', 'senter', 'attribute_ruler', 'lemmatizer']"
      ]
     },
     "execution_count": 7,
     "metadata": {},
     "output_type": "execute_result"
    }
   ],
   "source": [
    "# Load spacy model with disable NER\n",
    "nlp = spacy.load(\"en_core_web_sm\", exclude=['ner'])\n",
    "\n",
    "# Enable sentensizer\n",
    "nlp.enable_pipe('senter')\n",
    "\n",
    "nlp.pipe_names"
   ]
  },
  {
   "cell_type": "code",
   "execution_count": 8,
   "id": "38450244",
   "metadata": {},
   "outputs": [],
   "source": [
    "# Apply the NLP pipeline\n",
    "df['doc'] = df.order_results.apply(nlp)"
   ]
  },
  {
   "cell_type": "markdown",
   "id": "4a9b35d1",
   "metadata": {},
   "source": [
    "### Extract features"
   ]
  },
  {
   "cell_type": "code",
   "execution_count": 9,
   "id": "e8e2c01e",
   "metadata": {},
   "outputs": [],
   "source": [
    "# Feature map\n",
    "df['token_features'] = df.doc.apply(create_features)"
   ]
  },
  {
   "cell_type": "markdown",
   "id": "a5f6697c",
   "metadata": {},
   "source": [
    "### Label concepts"
   ]
  },
  {
   "cell_type": "code",
   "execution_count": 10,
   "id": "c35fa04a",
   "metadata": {},
   "outputs": [],
   "source": [
    "# Labels\n",
    "df['token_labels'] = df.apply(create_labels, true_concepts=true_concepts_bioes, axis=1)"
   ]
  },
  {
   "cell_type": "markdown",
   "id": "f9eb9e77",
   "metadata": {},
   "source": [
    "___\n",
    "# Model selection\n",
    "### Hyperparameter tuning"
   ]
  },
  {
   "cell_type": "code",
   "execution_count": null,
   "id": "3b26d543",
   "metadata": {},
   "outputs": [],
   "source": [
    "# %%time\n",
    "# X = df.order_results\n",
    "# y = df.y\n",
    "# groups = df.patient_id\n",
    "\n",
    "# param_space = {\n",
    "#     'c1': [0.01, 0.1, 1, 10],\n",
    "#     'c2': [0.01, 0.1, 1, 10],\n",
    "# #     'all_possible_states': [False, True],\n",
    "# #     'all_possible_transitions': [False, True],\n",
    "# }\n",
    "\n",
    "# best_params = None\n",
    "# best_score = float('-inf')\n",
    "\n",
    "# for c1 in param_space['c1']:\n",
    "#     for c2 in param_space['c2']:\n",
    "\n",
    "#         cv = StratifiedGroupKFold(n_splits=10, shuffle=True, random_state=3)\n",
    "#         f1_score = []\n",
    "\n",
    "#         for train_idx, val_idx in cv.split(X, y, groups):\n",
    "            \n",
    "#             # Initialise CRF object \n",
    "#             crf = CRF(algorithm='lbfgs', c1=c1, c2=c2)\n",
    "\n",
    "#             # Train the model\n",
    "#             crf.fit(df.loc[train_idx, 'token_features'], df.loc[train_idx, 'token_labels'])\n",
    "\n",
    "#             # Make predictions on the validation fold\n",
    "#             y_pred = crf.predict(df.loc[val_idx, 'token_features'])\n",
    "\n",
    "#             # Calculate macro f1\n",
    "#             f1_score.append(flat_f1_score(df.loc[val_idx, 'token_labels'], y_pred, average='macro'))\n",
    "            \n",
    "#         print(\"With parameters c1=%.2f and c2=%.2f, the model achieves %.2f (+/- %.2f).\" % \n",
    "#               (c1, c2, np.mean(f1_score), np.std(f1_score)))\n",
    "\n",
    "#         if np.mean(f1_score) > best_score:\n",
    "#             best_score = np.mean(f1_score)\n",
    "#             best_params = {'c1': c1, 'c2': c2}\n",
    "                \n",
    "                \n",
    "# print(\"Best macro F1 score = %.2f. Best hyperparameter values: c1=%.2f and c2=%.2f.\" % \n",
    "#       (best_score, best_params['c1'], best_params['c2']))"
   ]
  },
  {
   "cell_type": "markdown",
   "id": "88732d9c",
   "metadata": {},
   "source": [
    "### Model evaluation"
   ]
  },
  {
   "cell_type": "code",
   "execution_count": 11,
   "id": "2bbf2046",
   "metadata": {},
   "outputs": [
    {
     "name": "stdout",
     "output_type": "stream",
     "text": [
      "CPU times: user 4min 10s, sys: 2.54 s, total: 4min 13s\n",
      "Wall time: 4min 29s\n"
     ]
    }
   ],
   "source": [
    "%%time\n",
    "X = df.order_results\n",
    "y = df.y\n",
    "groups = df.patient_id\n",
    "\n",
    "df['y_pred'] = np.empty((len(df), 0)).tolist()\n",
    "\n",
    "cv = StratifiedGroupKFold(n_splits=10, shuffle=True, random_state=3)\n",
    "\n",
    "for train_idx, val_idx in cv.split(X, y, groups):\n",
    "            \n",
    "    # Initialise CRF object \n",
    "    crf = CRF(algorithm='lbfgs', c1=0.01, c2=0.1, max_iterations=100, all_possible_transitions=True)\n",
    "\n",
    "    # Train the model\n",
    "    crf.fit(df.loc[train_idx, 'token_features'], df.loc[train_idx, 'token_labels'])\n",
    "\n",
    "    # Make predictions on the validation fold\n",
    "    df.loc[val_idx, 'y_pred'] = pd.Series(crf.predict(df.loc[val_idx, 'token_features']), \n",
    "                                          index=val_idx)"
   ]
  },
  {
   "cell_type": "markdown",
   "id": "fabf6a90",
   "metadata": {},
   "source": [
    "### Transform predicitons"
   ]
  },
  {
   "cell_type": "code",
   "execution_count": 12,
   "id": "843b766c",
   "metadata": {},
   "outputs": [
    {
     "data": {
      "text/plain": [
       "((855, 7), (617, 7))"
      ]
     },
     "execution_count": 12,
     "metadata": {},
     "output_type": "execute_result"
    }
   ],
   "source": [
    "# BIOES entities\n",
    "detected_concepts_bioes = prediction2concept_bioes(df)\n",
    "# Composite entities\n",
    "detected_concepts = prediction2concept(df)\n",
    "\n",
    "detected_concepts_bioes.shape, detected_concepts.shape"
   ]
  },
  {
   "cell_type": "markdown",
   "id": "44fa281e",
   "metadata": {},
   "source": [
    "### Calculate precision & recall for CV"
   ]
  },
  {
   "cell_type": "code",
   "execution_count": null,
   "id": "1ed66a04",
   "metadata": {},
   "outputs": [],
   "source": [
    "# # BIOES entities\n",
    "# feature_names = get_feature_names('concepts', ('B-', 'I-', 'E-', 'S-'))\n",
    "\n",
    "# evaluate_ner_cv(df[['histopathology_id', 'val_fold']], \n",
    "#                           true_concepts_bioes, \n",
    "#                           detected_concepts_bioes, \n",
    "#                           feature_names)"
   ]
  },
  {
   "cell_type": "code",
   "execution_count": 14,
   "id": "32c1a157",
   "metadata": {},
   "outputs": [
    {
     "name": "stdout",
     "output_type": "stream",
     "text": [
      "                  mean   std\n",
      "concept                     \n",
      "ClinicalQuery     0.98  0.08\n",
      "FungalDescriptor  0.93  0.06\n",
      "Fungus            0.98  0.05\n",
      "Invasiveness      0.67  0.58\n",
      "Stain             0.96  0.06\n",
      "SampleType        0.59  0.14\n",
      "positive          0.73  0.37\n",
      "equivocal          NaN   NaN\n",
      "negative          0.89  0.09\n",
      "                  mean   std\n",
      "concept                     \n",
      "ClinicalQuery     0.72  0.22\n",
      "FungalDescriptor  0.80  0.11\n",
      "Fungus            0.80  0.21\n",
      "Invasiveness      0.13  0.21\n",
      "Stain             0.92  0.09\n",
      "SampleType        0.26  0.11\n",
      "positive          0.20  0.21\n",
      "equivocal         0.00  0.00\n",
      "negative          0.58  0.12\n"
     ]
    }
   ],
   "source": [
    "# Composite entities\n",
    "feature_names = get_feature_names('concepts')\n",
    "\n",
    "counts=evaluate_ner_cv(df[['histopathology_id', 'val_fold']], \n",
    "                true_concepts, \n",
    "                detected_concepts, \n",
    "                feature_names)"
   ]
  },
  {
   "cell_type": "code",
   "execution_count": 15,
   "id": "1fc24c94",
   "metadata": {},
   "outputs": [],
   "source": [
    "counts.reset_index(inplace=True)"
   ]
  },
  {
   "cell_type": "code",
   "execution_count": 17,
   "id": "9858d013",
   "metadata": {},
   "outputs": [
    {
     "data": {
      "text/html": [
       "<div>\n",
       "<style scoped>\n",
       "    .dataframe tbody tr th:only-of-type {\n",
       "        vertical-align: middle;\n",
       "    }\n",
       "\n",
       "    .dataframe tbody tr th {\n",
       "        vertical-align: top;\n",
       "    }\n",
       "\n",
       "    .dataframe thead th {\n",
       "        text-align: right;\n",
       "    }\n",
       "</style>\n",
       "<table border=\"1\" class=\"dataframe\">\n",
       "  <thead>\n",
       "    <tr style=\"text-align: right;\">\n",
       "      <th></th>\n",
       "      <th>tp</th>\n",
       "      <th>fp</th>\n",
       "      <th>fn</th>\n",
       "    </tr>\n",
       "    <tr>\n",
       "      <th>val_fold</th>\n",
       "      <th></th>\n",
       "      <th></th>\n",
       "      <th></th>\n",
       "    </tr>\n",
       "  </thead>\n",
       "  <tbody>\n",
       "    <tr>\n",
       "      <th>1.0</th>\n",
       "      <td>0</td>\n",
       "      <td>0</td>\n",
       "      <td>0</td>\n",
       "    </tr>\n",
       "    <tr>\n",
       "      <th>2.0</th>\n",
       "      <td>0</td>\n",
       "      <td>0</td>\n",
       "      <td>2</td>\n",
       "    </tr>\n",
       "    <tr>\n",
       "      <th>3.0</th>\n",
       "      <td>0</td>\n",
       "      <td>0</td>\n",
       "      <td>0</td>\n",
       "    </tr>\n",
       "    <tr>\n",
       "      <th>4.0</th>\n",
       "      <td>0</td>\n",
       "      <td>0</td>\n",
       "      <td>2</td>\n",
       "    </tr>\n",
       "    <tr>\n",
       "      <th>5.0</th>\n",
       "      <td>0</td>\n",
       "      <td>0</td>\n",
       "      <td>0</td>\n",
       "    </tr>\n",
       "    <tr>\n",
       "      <th>6.0</th>\n",
       "      <td>0</td>\n",
       "      <td>0</td>\n",
       "      <td>2</td>\n",
       "    </tr>\n",
       "    <tr>\n",
       "      <th>7.0</th>\n",
       "      <td>0</td>\n",
       "      <td>0</td>\n",
       "      <td>1</td>\n",
       "    </tr>\n",
       "    <tr>\n",
       "      <th>8.0</th>\n",
       "      <td>0</td>\n",
       "      <td>0</td>\n",
       "      <td>0</td>\n",
       "    </tr>\n",
       "    <tr>\n",
       "      <th>9.0</th>\n",
       "      <td>0</td>\n",
       "      <td>0</td>\n",
       "      <td>0</td>\n",
       "    </tr>\n",
       "    <tr>\n",
       "      <th>10.0</th>\n",
       "      <td>0</td>\n",
       "      <td>0</td>\n",
       "      <td>1</td>\n",
       "    </tr>\n",
       "  </tbody>\n",
       "</table>\n",
       "</div>"
      ],
      "text/plain": [
       "          tp  fp  fn\n",
       "val_fold            \n",
       "1.0        0   0   0\n",
       "2.0        0   0   2\n",
       "3.0        0   0   0\n",
       "4.0        0   0   2\n",
       "5.0        0   0   0\n",
       "6.0        0   0   2\n",
       "7.0        0   0   1\n",
       "8.0        0   0   0\n",
       "9.0        0   0   0\n",
       "10.0       0   0   1"
      ]
     },
     "execution_count": 17,
     "metadata": {},
     "output_type": "execute_result"
    }
   ],
   "source": [
    "counts[counts.concept=='equivocal'].groupby('val_fold')[['tp', 'fp', 'fn']].sum()"
   ]
  },
  {
   "cell_type": "markdown",
   "id": "bc4ff40d",
   "metadata": {},
   "source": [
    "___\n",
    "# Test\n",
    "### Train CRF on the full training set"
   ]
  },
  {
   "cell_type": "code",
   "execution_count": 18,
   "id": "6863631b",
   "metadata": {},
   "outputs": [],
   "source": [
    "# CRF-Suite is clearly very trustworthy since the same two lines below do not work outside of a for loop. \n",
    "for _ in range(1):        \n",
    "    # Initialise CRF object \n",
    "    crf = CRF(algorithm='lbfgs', c1=0.01, c2=0.1, max_iterations=100, all_possible_transitions=True)\n",
    "\n",
    "    # Train the model\n",
    "    crf.fit(df.token_features, df.token_labels)"
   ]
  },
  {
   "cell_type": "markdown",
   "id": "3c869af4",
   "metadata": {},
   "source": [
    "### Load and prepare test data"
   ]
  },
  {
   "cell_type": "code",
   "execution_count": 19,
   "id": "30d5da8d",
   "metadata": {},
   "outputs": [
    {
     "name": "stdout",
     "output_type": "stream",
     "text": [
      "(52, 8)\n"
     ]
    },
    {
     "data": {
      "text/html": [
       "<div>\n",
       "<style scoped>\n",
       "    .dataframe tbody tr th:only-of-type {\n",
       "        vertical-align: middle;\n",
       "    }\n",
       "\n",
       "    .dataframe tbody tr th {\n",
       "        vertical-align: top;\n",
       "    }\n",
       "\n",
       "    .dataframe thead th {\n",
       "        text-align: right;\n",
       "    }\n",
       "</style>\n",
       "<table border=\"1\" class=\"dataframe\">\n",
       "  <thead>\n",
       "    <tr style=\"text-align: right;\">\n",
       "      <th></th>\n",
       "      <th>patient_id</th>\n",
       "      <th>report_no</th>\n",
       "      <th>y_report</th>\n",
       "      <th>histopathology_id</th>\n",
       "      <th>val_fold</th>\n",
       "      <th>dataset</th>\n",
       "      <th>order_results</th>\n",
       "      <th>y</th>\n",
       "    </tr>\n",
       "  </thead>\n",
       "  <tbody>\n",
       "    <tr>\n",
       "      <th>0</th>\n",
       "      <td>2</td>\n",
       "      <td>1</td>\n",
       "      <td>Positive</td>\n",
       "      <td>214</td>\n",
       "      <td>NaN</td>\n",
       "      <td>test</td>\n",
       "      <td>\"URNO     XXXXXXXX \\nLab No    XXXXXXXXX      ...</td>\n",
       "      <td>1</td>\n",
       "    </tr>\n",
       "    <tr>\n",
       "      <th>1</th>\n",
       "      <td>23</td>\n",
       "      <td>1</td>\n",
       "      <td>Positive</td>\n",
       "      <td>127</td>\n",
       "      <td>NaN</td>\n",
       "      <td>test</td>\n",
       "      <td>\"URNO     XXXXXXXXX \\nLab No    XXXXXXXXX     ...</td>\n",
       "      <td>1</td>\n",
       "    </tr>\n",
       "    <tr>\n",
       "      <th>2</th>\n",
       "      <td>25</td>\n",
       "      <td>1</td>\n",
       "      <td>Positive</td>\n",
       "      <td>833</td>\n",
       "      <td>NaN</td>\n",
       "      <td>test</td>\n",
       "      <td>\"URNO     XXXXXXXXX \\nLab No    XXXXXXXXX     ...</td>\n",
       "      <td>1</td>\n",
       "    </tr>\n",
       "    <tr>\n",
       "      <th>3</th>\n",
       "      <td>38</td>\n",
       "      <td>1</td>\n",
       "      <td>Positive</td>\n",
       "      <td>194</td>\n",
       "      <td>NaN</td>\n",
       "      <td>test</td>\n",
       "      <td>\"XXXXXXX F XXXXXXXXXX  Report (XXXXXXXX)\\nMACR...</td>\n",
       "      <td>1</td>\n",
       "    </tr>\n",
       "    <tr>\n",
       "      <th>4</th>\n",
       "      <td>48</td>\n",
       "      <td>1</td>\n",
       "      <td>Positive</td>\n",
       "      <td>649</td>\n",
       "      <td>NaN</td>\n",
       "      <td>test</td>\n",
       "      <td>\"XXXXXXX \\nM\\nXXXXXXXXX\\n \\nReport (XXXXXXXX)\\...</td>\n",
       "      <td>1</td>\n",
       "    </tr>\n",
       "  </tbody>\n",
       "</table>\n",
       "</div>"
      ],
      "text/plain": [
       "   patient_id  report_no  y_report  histopathology_id  val_fold dataset  \\\n",
       "0           2          1  Positive                214       NaN    test   \n",
       "1          23          1  Positive                127       NaN    test   \n",
       "2          25          1  Positive                833       NaN    test   \n",
       "3          38          1  Positive                194       NaN    test   \n",
       "4          48          1  Positive                649       NaN    test   \n",
       "\n",
       "                                       order_results  y  \n",
       "0  \"URNO     XXXXXXXX \\nLab No    XXXXXXXXX      ...  1  \n",
       "1  \"URNO     XXXXXXXXX \\nLab No    XXXXXXXXX     ...  1  \n",
       "2  \"URNO     XXXXXXXXX \\nLab No    XXXXXXXXX     ...  1  \n",
       "3  \"XXXXXXX F XXXXXXXXXX  Report (XXXXXXXX)\\nMACR...  1  \n",
       "4  \"XXXXXXX \\nM\\nXXXXXXXXX\\n \\nReport (XXXXXXXX)\\...  1  "
      ]
     },
     "execution_count": 19,
     "metadata": {},
     "output_type": "execute_result"
    }
   ],
   "source": [
    "# Load the test set of reports\n",
    "df_test = pd.read_csv(\"../datasets/reports_test.csv\")\n",
    "print(df_test.shape)\n",
    "df_test.head()"
   ]
  },
  {
   "cell_type": "markdown",
   "id": "06d0f94b",
   "metadata": {},
   "source": [
    "### Extract features"
   ]
  },
  {
   "cell_type": "code",
   "execution_count": 20,
   "id": "f3161800",
   "metadata": {},
   "outputs": [],
   "source": [
    "# Apply the NLP pipeline\n",
    "df_test['doc'] = df_test.order_results.apply(nlp)\n",
    "\n",
    "# Feature map\n",
    "df_test['token_features'] = df_test.doc.apply(create_features)"
   ]
  },
  {
   "cell_type": "markdown",
   "id": "3408257b",
   "metadata": {},
   "source": [
    "### Run the model and evaluate predicitions"
   ]
  },
  {
   "cell_type": "code",
   "execution_count": 21,
   "id": "b6ed7718",
   "metadata": {},
   "outputs": [
    {
     "data": {
      "text/plain": [
       "((200, 7), (145, 7))"
      ]
     },
     "execution_count": 21,
     "metadata": {},
     "output_type": "execute_result"
    }
   ],
   "source": [
    "# Make predictions\n",
    "df_test['y_pred'] = crf.predict(df_test.token_features)\n",
    "\n",
    "# BIOES entities\n",
    "detected_concepts_bioes = prediction2concept_bioes(df_test)\n",
    "# Composite entities\n",
    "detected_concepts = prediction2concept(df_test)\n",
    "\n",
    "detected_concepts_bioes.shape, detected_concepts.shape"
   ]
  },
  {
   "cell_type": "code",
   "execution_count": null,
   "id": "a1a710bb",
   "metadata": {},
   "outputs": [],
   "source": [
    "# # BIOES entities\n",
    "# feature_names = get_feature_names('concepts', ('B-', 'I-', 'E-', 'S-'))\n",
    "\n",
    "# evaluate_ner(df_test.histopathology_id, \n",
    "#              true_concepts_bioes, \n",
    "#              detected_concepts_bioes, \n",
    "#              feature_names)"
   ]
  },
  {
   "cell_type": "code",
   "execution_count": 22,
   "id": "6f7614e5",
   "metadata": {},
   "outputs": [
    {
     "name": "stdout",
     "output_type": "stream",
     "text": [
      "concept\n",
      "ClinicalQuery       1.000000\n",
      "FungalDescriptor    0.934783\n",
      "Fungus              0.933333\n",
      "Invasiveness             NaN\n",
      "Stain               0.970588\n",
      "SampleType          0.500000\n",
      "positive            1.000000\n",
      "equivocal                NaN\n",
      "negative            0.900000\n",
      "dtype: float64\n",
      "\n",
      "concept\n",
      "ClinicalQuery       1.000000\n",
      "FungalDescriptor    0.860000\n",
      "Fungus              0.777778\n",
      "Invasiveness        0.000000\n",
      "Stain               0.942857\n",
      "SampleType          0.325581\n",
      "positive            0.200000\n",
      "equivocal                NaN\n",
      "negative            0.346154\n",
      "dtype: float64\n"
     ]
    }
   ],
   "source": [
    "# Composite entities\n",
    "feature_names = get_feature_names('concepts')\n",
    "\n",
    "counts_test=evaluate_ner(df_test.histopathology_id, \n",
    "             true_concepts, \n",
    "             detected_concepts, \n",
    "             feature_names)"
   ]
  },
  {
   "cell_type": "code",
   "execution_count": 23,
   "id": "52de2721",
   "metadata": {},
   "outputs": [],
   "source": [
    "counts_test.reset_index(inplace=True)"
   ]
  },
  {
   "cell_type": "code",
   "execution_count": 25,
   "id": "fed36713",
   "metadata": {},
   "outputs": [
    {
     "data": {
      "text/plain": [
       "tp    0\n",
       "fp    0\n",
       "fn    0\n",
       "dtype: int64"
      ]
     },
     "execution_count": 25,
     "metadata": {},
     "output_type": "execute_result"
    }
   ],
   "source": [
    "counts_test[counts_test.concept=='equivocal'][['tp', 'fp', 'fn']].sum()"
   ]
  }
 ],
 "metadata": {
  "kernelspec": {
   "display_name": "Python 3 (ipykernel)",
   "language": "python",
   "name": "python3"
  },
  "language_info": {
   "codemirror_mode": {
    "name": "ipython",
    "version": 3
   },
   "file_extension": ".py",
   "mimetype": "text/x-python",
   "name": "python",
   "nbconvert_exporter": "python",
   "pygments_lexer": "ipython3",
   "version": "3.10.13"
  }
 },
 "nbformat": 4,
 "nbformat_minor": 5
}
